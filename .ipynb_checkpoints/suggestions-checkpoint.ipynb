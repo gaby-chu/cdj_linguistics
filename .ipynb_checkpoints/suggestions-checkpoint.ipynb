{
 "cells": [
  {
   "cell_type": "markdown",
   "id": "8a385adf",
   "metadata": {},
   "source": [
    "# Text Preprocessing and Sentiment analysis of r/Happy"
   ]
  },
  {
   "cell_type": "markdown",
   "id": "0f478465",
   "metadata": {},
   "source": [
    "Import and read the csv file "
   ]
  },
  {
   "cell_type": "code",
   "execution_count": 53,
   "id": "7ca61d5d",
   "metadata": {},
   "outputs": [
    {
     "name": "stdout",
     "output_type": "stream",
     "text": [
      "\u001b[33mDEPRECATION: Configuring installation scheme with distutils config files is deprecated and will no longer work in the near future. If you are using a Homebrew or Linuxbrew Python, please see discussion at https://github.com/Homebrew/homebrew-core/issues/76621\u001b[0m\n",
      "Requirement already satisfied: emoji in /opt/homebrew/lib/python3.9/site-packages (1.7.0)\n",
      "\u001b[33mWARNING: You are using pip version 21.2.4; however, version 22.0.4 is available.\n",
      "You should consider upgrading via the '/opt/homebrew/opt/python@3.9/bin/python3.9 -m pip install --upgrade pip' command.\u001b[0m\n",
      "Note: you may need to restart the kernel to use updated packages.\n",
      "\u001b[33mDEPRECATION: Configuring installation scheme with distutils config files is deprecated and will no longer work in the near future. If you are using a Homebrew or Linuxbrew Python, please see discussion at https://github.com/Homebrew/homebrew-core/issues/76621\u001b[0m\n",
      "Requirement already satisfied: nltk in /opt/homebrew/lib/python3.9/site-packages (3.7)\n",
      "Requirement already satisfied: regex>=2021.8.3 in /opt/homebrew/lib/python3.9/site-packages (from nltk) (2022.3.15)\n",
      "Requirement already satisfied: joblib in /opt/homebrew/lib/python3.9/site-packages (from nltk) (1.1.0)\n",
      "Requirement already satisfied: click in /opt/homebrew/lib/python3.9/site-packages (from nltk) (8.0.1)\n",
      "Requirement already satisfied: tqdm in /opt/homebrew/lib/python3.9/site-packages (from nltk) (4.62.2)\n",
      "\u001b[33mWARNING: You are using pip version 21.2.4; however, version 22.0.4 is available.\n",
      "You should consider upgrading via the '/opt/homebrew/opt/python@3.9/bin/python3.9 -m pip install --upgrade pip' command.\u001b[0m\n",
      "Note: you may need to restart the kernel to use updated packages.\n"
     ]
    }
   ],
   "source": [
    "%pip install emoji\n",
    "%pip install nltk\n",
    "# %pip install spacy\n",
    "import pandas as pd\n",
    "import emoji as emoji\n",
    "import nltk\n",
    "from nltk.tokenize import RegexpTokenizer\n",
    "# !python -m spacy download en_core_web_sm\n",
    "# import spacy\n",
    "# import en_core_web_sm\n",
    "from nltk.stem import WordNetLemmatizer"
   ]
  },
  {
   "cell_type": "code",
   "execution_count": 22,
   "id": "142dee5a",
   "metadata": {},
   "outputs": [],
   "source": [
    "happy_final = pd.read_csv(\"happy_final.csv\")"
   ]
  },
  {
   "cell_type": "code",
   "execution_count": 47,
   "id": "25eb9bae",
   "metadata": {},
   "outputs": [
    {
     "data": {
      "text/html": [
       "<div>\n",
       "<style scoped>\n",
       "    .dataframe tbody tr th:only-of-type {\n",
       "        vertical-align: middle;\n",
       "    }\n",
       "\n",
       "    .dataframe tbody tr th {\n",
       "        vertical-align: top;\n",
       "    }\n",
       "\n",
       "    .dataframe thead th {\n",
       "        text-align: right;\n",
       "    }\n",
       "</style>\n",
       "<table border=\"1\" class=\"dataframe\">\n",
       "  <thead>\n",
       "    <tr style=\"text-align: right;\">\n",
       "      <th></th>\n",
       "      <th>author</th>\n",
       "      <th>title</th>\n",
       "      <th>selftext</th>\n",
       "      <th>full_link</th>\n",
       "      <th>created_utc</th>\n",
       "      <th>score</th>\n",
       "      <th>num_comments</th>\n",
       "      <th>num_crossposts</th>\n",
       "    </tr>\n",
       "  </thead>\n",
       "  <tbody>\n",
       "    <tr>\n",
       "      <th>0</th>\n",
       "      <td>GoodNaturedGamer</td>\n",
       "      <td>After months of work my work with dnd.Disablit...</td>\n",
       "      <td>NaN</td>\n",
       "      <td>https://www.reddit.com/r/happy/comments/mnq89p...</td>\n",
       "      <td>2021-04-09 20:42:50</td>\n",
       "      <td>1</td>\n",
       "      <td>1</td>\n",
       "      <td>0</td>\n",
       "    </tr>\n",
       "    <tr>\n",
       "      <th>1</th>\n",
       "      <td>ASAP-Broccoli</td>\n",
       "      <td>Happy 1st birthday to my best friend</td>\n",
       "      <td>NaN</td>\n",
       "      <td>https://www.reddit.com/r/happy/comments/mnot6q...</td>\n",
       "      <td>2021-04-09 19:32:31</td>\n",
       "      <td>1</td>\n",
       "      <td>2</td>\n",
       "      <td>0</td>\n",
       "    </tr>\n",
       "    <tr>\n",
       "      <th>2</th>\n",
       "      <td>cctrjkrfan</td>\n",
       "      <td>Neighbors moved out of the apartment complex a...</td>\n",
       "      <td>NaN</td>\n",
       "      <td>https://www.reddit.com/r/happy/comments/mnoo7x...</td>\n",
       "      <td>2021-04-09 19:25:31</td>\n",
       "      <td>1</td>\n",
       "      <td>3</td>\n",
       "      <td>0</td>\n",
       "    </tr>\n",
       "    <tr>\n",
       "      <th>3</th>\n",
       "      <td>_keiki_kitten</td>\n",
       "      <td>Lemme see ‘em</td>\n",
       "      <td>NaN</td>\n",
       "      <td>https://www.reddit.com/r/happy/comments/mnoa9w...</td>\n",
       "      <td>2021-04-09 19:06:21</td>\n",
       "      <td>1</td>\n",
       "      <td>2</td>\n",
       "      <td>0</td>\n",
       "    </tr>\n",
       "    <tr>\n",
       "      <th>4</th>\n",
       "      <td>Utterlybored</td>\n",
       "      <td>Two Weeks Since Shot #2 Means I Have Reached P...</td>\n",
       "      <td>...or as I call it, 2V + 14\\n\\nOff to hug the ...</td>\n",
       "      <td>https://www.reddit.com/r/happy/comments/mnmzct...</td>\n",
       "      <td>2021-04-09 18:02:50</td>\n",
       "      <td>1</td>\n",
       "      <td>3</td>\n",
       "      <td>0</td>\n",
       "    </tr>\n",
       "  </tbody>\n",
       "</table>\n",
       "</div>"
      ],
      "text/plain": [
       "             author                                              title  \\\n",
       "0  GoodNaturedGamer  After months of work my work with dnd.Disablit...   \n",
       "1     ASAP-Broccoli               Happy 1st birthday to my best friend   \n",
       "2        cctrjkrfan  Neighbors moved out of the apartment complex a...   \n",
       "3     _keiki_kitten                                      Lemme see ‘em   \n",
       "4      Utterlybored  Two Weeks Since Shot #2 Means I Have Reached P...   \n",
       "\n",
       "                                            selftext  \\\n",
       "0                                                NaN   \n",
       "1                                                NaN   \n",
       "2                                                NaN   \n",
       "3                                                NaN   \n",
       "4  ...or as I call it, 2V + 14\\n\\nOff to hug the ...   \n",
       "\n",
       "                                           full_link          created_utc  \\\n",
       "0  https://www.reddit.com/r/happy/comments/mnq89p...  2021-04-09 20:42:50   \n",
       "1  https://www.reddit.com/r/happy/comments/mnot6q...  2021-04-09 19:32:31   \n",
       "2  https://www.reddit.com/r/happy/comments/mnoo7x...  2021-04-09 19:25:31   \n",
       "3  https://www.reddit.com/r/happy/comments/mnoa9w...  2021-04-09 19:06:21   \n",
       "4  https://www.reddit.com/r/happy/comments/mnmzct...  2021-04-09 18:02:50   \n",
       "\n",
       "   score  num_comments  num_crossposts  \n",
       "0      1             1               0  \n",
       "1      1             2               0  \n",
       "2      1             3               0  \n",
       "3      1             2               0  \n",
       "4      1             3               0  "
      ]
     },
     "execution_count": 47,
     "metadata": {},
     "output_type": "execute_result"
    }
   ],
   "source": [
    "happy_final.head()"
   ]
  },
  {
   "cell_type": "markdown",
   "id": "6786564b",
   "metadata": {},
   "source": [
    "We start the sentiment analysis with text preprocessing. "
   ]
  },
  {
   "cell_type": "markdown",
   "id": "858ea16f",
   "metadata": {},
   "source": [
    "Store all titles in a list"
   ]
  },
  {
   "cell_type": "code",
   "execution_count": 24,
   "id": "55c2f85b",
   "metadata": {},
   "outputs": [
    {
     "name": "stdout",
     "output_type": "stream",
     "text": [
      "Total titles scraped: 540\n"
     ]
    }
   ],
   "source": [
    "Title_all = []\n",
    "for i in happy_final.loc[:,\"title\"]:\n",
    "    Title_all.append(i)\n",
    "#print(Title_all)\n",
    "print('Total titles scraped:', len(Title_all))"
   ]
  },
  {
   "cell_type": "markdown",
   "id": "d6ada9ba",
   "metadata": {},
   "source": [
    "Then, we preprocess the titles to get rid of the emojis, stopwords, and links "
   ]
  },
  {
   "cell_type": "code",
   "execution_count": 25,
   "id": "2f74f15a",
   "metadata": {},
   "outputs": [],
   "source": [
    "#Make all titles into a string object  \n",
    "title_list = Title_all\n",
    "title_list = [str(i) for i in title_list] #this makes every title into a string itself but separated by commas \n",
    "# string_uncleaned = \",\". join(List) \n",
    "#join all the strings separated by commas \n",
    "#string_uncleaned"
   ]
  },
  {
   "cell_type": "code",
   "execution_count": 28,
   "id": "3076d78f",
   "metadata": {},
   "outputs": [
    {
     "name": "stdout",
     "output_type": "stream",
     "text": [
      "[\"After months of work my work with dnd.Disablity has gone live! Oath of Acceptability, with stickers that help fund the non-profit and the Bristol children's hospital play team! (Link in comments)\", 'Happy 1st birthday to my best friend', 'Neighbors moved out of the apartment complex and totally unexpectedly gave us their plants  because “they knew we would take good care of them” due to our balcony garden and I’m so happy.', 'Lemme see ‘em', 'Two Weeks Since Shot #2 Means I Have Reached Peak Immunity']\n"
     ]
    },
    {
     "name": "stderr",
     "output_type": "stream",
     "text": [
      "/var/folders/7c/45yp5pl95_14d1f8zd27k9wr0000gn/T/ipykernel_63116/411434694.py:4: DeprecationWarning: 'emoji.get_emoji_regexp()' is deprecated and will be removed in version 2.0.0. If you want to remove emoji from a string, consider the method emoji.replace_emoji(str, replace='').\n",
      "To hide this warning, pin/downgrade the package to 'emoji~=1.6.3'\n",
      "  return emoji.get_emoji_regexp().sub(r'', text)\n"
     ]
    }
   ],
   "source": [
    "#removing emojis\n",
    "\n",
    "def give_emoji_free_text(text): \n",
    "    return emoji.get_emoji_regexp().sub(r'', text)\n",
    "\n",
    "list_clean = [give_emoji_free_text(i) for i in title_list]\n",
    "print(list_clean[:5])\n",
    "\n",
    "#emoji_free\n"
   ]
  },
  {
   "cell_type": "markdown",
   "id": "0bb810de",
   "metadata": {},
   "source": [
    "We tokenize the words. Tokenizing breaks apart every word in the string into an individual word which would then carry it’s own “positive” or “negative” sentiment based on our sentiment analyzer later."
   ]
  },
  {
   "cell_type": "code",
   "execution_count": 29,
   "id": "c5d667b7",
   "metadata": {},
   "outputs": [
    {
     "name": "stdout",
     "output_type": "stream",
     "text": [
      "[['After', 'months', 'of', 'work', 'my', 'work', 'with', 'dnd', 'Disablity', 'has', 'gone', 'live', 'Oath', 'of', 'Acceptability', 'with', 'stickers', 'that', 'help', 'fund', 'the', 'non', 'profit', 'and', 'the', 'Bristol', 'children', 's', 'hospital', 'play', 'team', 'Link', 'in', 'comments'], ['Happy', '1st', 'birthday', 'to', 'my', 'best', 'friend'], ['Neighbors', 'moved', 'out', 'of', 'the', 'apartment', 'complex', 'and', 'totally', 'unexpectedly', 'gave', 'us', 'their', 'plants', 'because', 'they', 'knew', 'we', 'would', 'take', 'good', 'care', 'of', 'them', 'due', 'to', 'our', 'balcony', 'garden', 'and', 'I', 'm', 'so', 'happy'], ['Lemme', 'see', 'em'], ['Two', 'Weeks', 'Since', 'Shot', '2', 'Means', 'I', 'Have', 'Reached', 'Peak', 'Immunity']]\n"
     ]
    }
   ],
   "source": [
    "tokenizer = RegexpTokenizer('\\w+|\\$[\\d\\.]+|\\S+?!!!')\n",
    "tokenized_string = [tokenizer.tokenize(i) for i in list_clean]\n",
    "print(tokenized_string[:5])"
   ]
  },
  {
   "cell_type": "markdown",
   "id": "23d07e1a",
   "metadata": {},
   "source": [
    "Some words are uppercase while others are lowercase. We must standardize to all lower case then put it in a list "
   ]
  },
  {
   "cell_type": "code",
   "execution_count": 34,
   "id": "a8967311",
   "metadata": {},
   "outputs": [
    {
     "name": "stdout",
     "output_type": "stream",
     "text": [
      "[['after', 'months', 'of', 'work', 'my', 'work', 'with', 'dnd', 'disablity', 'has', 'gone', 'live', 'oath', 'of', 'acceptability', 'with', 'stickers', 'that', 'help', 'fund', 'the', 'non', 'profit', 'and', 'the', 'bristol', 'children', 's', 'hospital', 'play', 'team', 'link', 'in', 'comments'], ['happy', '1st', 'birthday', 'to', 'my', 'best', 'friend'], ['neighbors', 'moved', 'out', 'of', 'the', 'apartment', 'complex', 'and', 'totally', 'unexpectedly', 'gave', 'us', 'their', 'plants', 'because', 'they', 'knew', 'we', 'would', 'take', 'good', 'care', 'of', 'them', 'due', 'to', 'our', 'balcony', 'garden', 'and', 'i', 'm', 'so', 'happy'], ['lemme', 'see', 'em'], ['two', 'weeks', 'since', 'shot', '2', 'means', 'i', 'have', 'reached', 'peak', 'immunity']]\n"
     ]
    }
   ],
   "source": [
    "lower_case = []\n",
    "for sent in tokenized_string:\n",
    "    word_list = []\n",
    "    for word in sent:\n",
    "        word_list.append(word.lower())\n",
    "    lower_case.append(word_list)\n",
    "\n",
    "print(lower_case[:5])"
   ]
  },
  {
   "cell_type": "code",
   "execution_count": 43,
   "id": "8472847e-a188-4e85-befd-14aa4afdfbd2",
   "metadata": {},
   "outputs": [
    {
     "name": "stdout",
     "output_type": "stream",
     "text": [
      "Our stopword list ['i', 'me', 'my', 'myself', 'we', 'our', 'ours', 'ourselves', 'you', \"you're\", \"you've\", \"you'll\", \"you'd\", 'your', 'yours', 'yourself', 'yourselves', 'he', 'him', 'his', 'himself', 'she', \"she's\", 'her', 'hers', 'herself', 'it', \"it's\", 'its', 'itself', 'they', 'them', 'their', 'theirs', 'themselves', 'what', 'which', 'who', 'whom', 'this', 'that', \"that'll\", 'these', 'those', 'am', 'is', 'are', 'was', 'were', 'be', 'been', 'being', 'have', 'has', 'had', 'having', 'do', 'does', 'did', 'doing', 'a', 'an', 'the', 'and', 'but', 'if', 'or', 'because', 'as', 'until', 'while', 'of', 'at', 'by', 'for', 'with', 'about', 'against', 'between', 'into', 'through', 'during', 'before', 'after', 'above', 'below', 'to', 'from', 'up', 'down', 'in', 'out', 'on', 'off', 'over', 'under', 'again', 'further', 'then', 'once', 'here', 'there', 'when', 'where', 'why', 'how', 'all', 'any', 'both', 'each', 'few', 'more', 'most', 'other', 'some', 'such', 'no', 'nor', 'not', 'only', 'own', 'same', 'so', 'than', 'too', 'very', 's', 't', 'can', 'will', 'just', 'don', \"don't\", 'should', \"should've\", 'now', 'd', 'll', 'm', 'o', 're', 've', 'y', 'ain', 'aren', \"aren't\", 'couldn', \"couldn't\", 'didn', \"didn't\", 'doesn', \"doesn't\", 'hadn', \"hadn't\", 'hasn', \"hasn't\", 'haven', \"haven't\", 'isn', \"isn't\", 'ma', 'mightn', \"mightn't\", 'mustn', \"mustn't\", 'needn', \"needn't\", 'shan', \"shan't\", 'shouldn', \"shouldn't\", 'wasn', \"wasn't\", 'weren', \"weren't\", 'won', \"won't\", 'wouldn', \"wouldn't\", '!', '\"', '#', '$', '%', '&', \"'\", '(', ')', '*', '+', ',', '-', '.', '/', ':', ';', '<', '=', '>', '?', '@', '[', '\\\\', ']', '^', '_', '`', '{', '|', '}', '~', '0', '1', '2', '3', '4', '5', '6', '7', '8', '9']\n"
     ]
    }
   ],
   "source": [
    "# Work with sample stopwords\n",
    "import string\n",
    "from nltk.corpus import stopwords\n",
    "\n",
    "stops = stopwords.words('english') # NLTK's short list of English stopwords\n",
    "\n",
    "for punct in string.punctuation:\n",
    "    stops.append(punct) # Add punctuation marks to stoplist\n",
    "numbers = ['0','1','2','3','4','5','6','7','8','9']\n",
    "for num in numbers:\n",
    "    stops.append(num)\n",
    "print(\"Our stopword list\", stops)\n"
   ]
  },
  {
   "cell_type": "code",
   "execution_count": 44,
   "id": "39d13385-e54f-4c54-829e-a8bd9cd55c1d",
   "metadata": {},
   "outputs": [
    {
     "data": {
      "text/plain": [
       "[['months',\n",
       "  'work',\n",
       "  'work',\n",
       "  'dnd',\n",
       "  'disablity',\n",
       "  'gone',\n",
       "  'live',\n",
       "  'oath',\n",
       "  'acceptability',\n",
       "  'stickers',\n",
       "  'help',\n",
       "  'fund',\n",
       "  'non',\n",
       "  'profit',\n",
       "  'bristol',\n",
       "  'children',\n",
       "  'hospital',\n",
       "  'play',\n",
       "  'team',\n",
       "  'link',\n",
       "  'comments'],\n",
       " ['happy', '1st', 'birthday', 'best', 'friend'],\n",
       " ['neighbors',\n",
       "  'moved',\n",
       "  'apartment',\n",
       "  'complex',\n",
       "  'totally',\n",
       "  'unexpectedly',\n",
       "  'gave',\n",
       "  'us',\n",
       "  'plants',\n",
       "  'knew',\n",
       "  'would',\n",
       "  'take',\n",
       "  'good',\n",
       "  'care',\n",
       "  'due',\n",
       "  'balcony',\n",
       "  'garden',\n",
       "  'happy'],\n",
       " ['lemme', 'see', 'em'],\n",
       " ['two', 'weeks', 'since', 'shot', 'means', 'reached', 'peak', 'immunity']]"
      ]
     },
     "execution_count": 44,
     "metadata": {},
     "output_type": "execute_result"
    }
   ],
   "source": [
    "no_stop =[]\n",
    "for sent in lower_case:\n",
    "    no_stop_sent =[]\n",
    "    for word in sent:\n",
    "        if word not in stops:\n",
    "            no_stop_sent.append(word)\n",
    "    no_stop.append(no_stop_sent)\n",
    "no_stop[:5]\n",
    "    "
   ]
  },
  {
   "cell_type": "markdown",
   "id": "6bbd7077-112e-49b6-b0d0-2299971333c9",
   "metadata": {},
   "source": [
    "Our last step in preprocessing the text is to lemmatize the words. Lemmatization allows us to query the text and returns the root/base word. \n",
    "\n",
    "Ex: running, ran, runs are all forms of the base word run"
   ]
  },
  {
   "cell_type": "code",
   "execution_count": 45,
   "id": "83171083",
   "metadata": {},
   "outputs": [
    {
     "name": "stdout",
     "output_type": "stream",
     "text": [
      "[['month', 'work', 'work', 'dnd', 'disablity', 'gone', 'live', 'oath', 'acceptability', 'sticker', 'help', 'fund', 'non', 'profit', 'bristol', 'child', 'hospital', 'play', 'team', 'link', 'comment'], ['happy', '1st', 'birthday', 'best', 'friend'], ['neighbor', 'moved', 'apartment', 'complex', 'totally', 'unexpectedly', 'gave', 'u', 'plant', 'knew', 'would', 'take', 'good', 'care', 'due', 'balcony', 'garden', 'happy'], ['lemme', 'see', 'em'], ['two', 'week', 'since', 'shot', 'mean', 'reached', 'peak', 'immunity']]\n"
     ]
    },
    {
     "name": "stderr",
     "output_type": "stream",
     "text": [
      "[nltk_data] Downloading package wordnet to\n",
      "[nltk_data]     /Users/danagong/nltk_data...\n",
      "[nltk_data]   Package wordnet is already up-to-date!\n"
     ]
    }
   ],
   "source": [
    "nltk.download('wordnet')\n",
    "# after looking at the lemmatized list i'm not really sure if i want this\n",
    "lemmatizer = WordNetLemmatizer()\n",
    "\n",
    "lemmatized = []\n",
    "for sent in no_stop:\n",
    "    word_list = []\n",
    "    for word in sent:\n",
    "        word_list.append(lemmatizer.lemmatize(word))\n",
    "    lemmatized.append(word_list)\n",
    "\n",
    "print(lemmatized[:5])\n",
    "\n"
   ]
  },
  {
   "cell_type": "code",
   "execution_count": 25,
   "id": "bb4b57fe",
   "metadata": {},
   "outputs": [
    {
     "name": "stdout",
     "output_type": "stream",
     "text": [
      "number of words originally: 49129\n",
      "number of words after taking out emojis: 49002\n",
      "number of words after tokenization: 9356\n",
      "number of words after taking out stopwords: 4579\n",
      "number of words after lemmatization 4579\n"
     ]
    }
   ],
   "source": [
    "## printing len to see how much we have cut down \n",
    "# print(\"number of words originally:\", len(string_uncleaned))\n",
    "# print(\"number of words after taking out emojis:\", len(emoji_free))\n",
    "# print(\"number of words after tokenization:\", len(tokenized_string))\n",
    "# print(\"number of words after taking out stopwords:\", len(no_stopwords))\n",
    "# print(\"number of words after lemmatization\", len(lemmatized))\n",
    "#lets store the final output into a new variable \n",
    "# cleaned = lemmatized"
   ]
  },
  {
   "cell_type": "code",
   "execution_count": 46,
   "id": "e8d509fa-b6d9-4bb9-bc60-bc43877a62e6",
   "metadata": {},
   "outputs": [
    {
     "data": {
      "text/plain": [
       "540"
      ]
     },
     "execution_count": 46,
     "metadata": {},
     "output_type": "execute_result"
    }
   ],
   "source": [
    "# our list of lists should contain the same number of sentences as there were columns in the dataframe \n",
    "len(lemmatized)"
   ]
  },
  {
   "cell_type": "markdown",
   "id": "fac9587c-b5b1-4414-901f-6f95ac9374b5",
   "metadata": {},
   "source": [
    "# Setup sentiment dictionaries \n",
    "For some reason spacy isn't downloading correctly in my environment, so feel free to keep the original sentiment method you had. However, if you're planning taking text mining with Wilkens, this is [lecture 5](https://github.com/wilkens-teaching/info3350-s22/blob/main/lectures/lec-05-sentiment.ipynb) of his course. I don't use all of this code, but I just copied and pasted from his jupyter notebook."
   ]
  },
  {
   "cell_type": "code",
   "execution_count": 52,
   "id": "65615c1c-4f8b-4aeb-9273-2cd5900a1768",
   "metadata": {},
   "outputs": [
    {
     "name": "stdout",
     "output_type": "stream",
     "text": [
      "NLTK lexicon sample\n",
      "positive: ['triumph', 'flourish', 'accurate', 'capability', 'trophy']\n",
      "negative: ['unwarranted', 'hassle', 'uninformed', 'thorny', 'dissuasive']\n",
      "\n",
      "NRC lexicon sample\n",
      "felt: {'anger': 0, 'anticipation': 0, 'disgust': 0, 'fear': 0, 'joy': 0, 'negative': 0, 'positive': 0, 'sadness': 0, 'surprise': 0, 'trust': 0}\n",
      "symmetric: {'anger': 0, 'anticipation': 0, 'disgust': 0, 'fear': 0, 'joy': 0, 'negative': 0, 'positive': 0, 'sadness': 0, 'surprise': 0, 'trust': 0}\n"
     ]
    },
    {
     "name": "stderr",
     "output_type": "stream",
     "text": [
      "[nltk_data] Downloading package opinion_lexicon to\n",
      "[nltk_data]     /Users/danagong/nltk_data...\n",
      "[nltk_data]   Package opinion_lexicon is already up-to-date!\n"
     ]
    }
   ],
   "source": [
    "from   collections import defaultdict\n",
    "import nltk\n",
    "import os\n",
    "import random\n",
    "\n",
    "nltk.download('opinion_lexicon') # Need to download this the first time used\n",
    "\n",
    "# NLTK simple lexicon (from Hu and Liu (2004))\n",
    "nltk_lexicon = {\n",
    "    'positive' : set(nltk.corpus.opinion_lexicon.positive()), # Why cast to a set?\n",
    "    'negative' : set(nltk.corpus.opinion_lexicon.negative())\n",
    "}\n",
    "\n",
    "# Print a sample of the NLTK lexicon\n",
    "print('NLTK lexicon sample')\n",
    "for key in nltk_lexicon.keys():\n",
    "    print(f'{key}:', random.sample(tuple(nltk_lexicon[key]), 5))\n",
    "    \n",
    "# NRC EmoLex lexicon (from Mohammad, http://sentiment.nrc.ca/lexicons-for-research/)\n",
    "# No package for this, just read the data from a local file\n",
    "emolex_file = os.path.join('emolex.txt')\n",
    "nrc_lexicon = defaultdict(dict) # Like Counter(), defaultdict eases dictionary creation\n",
    "with open(emolex_file, 'r') as f:\n",
    "    # emolex file format is: word emotion value\n",
    "    for line in f:\n",
    "        word, emotion, value = line.strip().split()\n",
    "        nrc_lexicon[word][emotion] = int(value)\n",
    "        \n",
    "# Print a sample of the NRC EmoLex lexicon\n",
    "print('\\nNRC lexicon sample')       \n",
    "for key in random.sample(tuple(nrc_lexicon.keys()), 2):\n",
    "    print(f'{key}:', nrc_lexicon[key])"
   ]
  },
  {
   "cell_type": "markdown",
   "id": "bdf8e514-4659-4062-81d5-879cbddceb7a",
   "metadata": {},
   "source": [
    "# Sentiment Scoring"
   ]
  },
  {
   "cell_type": "code",
   "execution_count": 57,
   "id": "ab8b2d62-54ac-4e05-a25f-d7a06ce76ad5",
   "metadata": {},
   "outputs": [],
   "source": [
    "def word_sentiment_score(word, method='nrc', lex=nrc_lexicon):\n",
    "    '''\n",
    "    Takes a word, optional method in ['nrc', 'nltk'], and optional lexicon dictionary.\n",
    "    Returns 1 (if positive), -1 (if negative), 0 (neutral), or None (not in lex).\n",
    "    '''\n",
    "    word = word.lower() # Handle non-case-folded inputs\n",
    "    if method.lower() == 'nrc':\n",
    "        if word in lex: # Only score words that are in the lexicon\n",
    "            pos = lex[word]['positive']\n",
    "            neg = lex[word]['negative']\n",
    "            if pos == neg: # Ties (mostly 0==0) return zero\n",
    "                return 0\n",
    "            elif pos > neg:\n",
    "                return 1\n",
    "            else:\n",
    "                return -1\n",
    "    elif method.lower() == 'nltk':\n",
    "        if word in lex['positive']:\n",
    "            return 1\n",
    "        elif word in lex['negative']:\n",
    "            return -1\n",
    "    else:\n",
    "        raise NameError(\"Method not in ['nrc', 'nltk']\")\n",
    "    return 0"
   ]
  },
  {
   "cell_type": "code",
   "execution_count": 64,
   "id": "48da23e0-944e-4606-9f48-5703f866855c",
   "metadata": {},
   "outputs": [
    {
     "data": {
      "text/plain": [
       "540"
      ]
     },
     "execution_count": 64,
     "metadata": {},
     "output_type": "execute_result"
    }
   ],
   "source": [
    "def average(lst):\n",
    "    return sum(lst) / len(lst)\n",
    "\n",
    "sentiment_scores = []\n",
    "for sent in lemmatized:\n",
    "    word_list =[]\n",
    "    for word in sent:\n",
    "        word_list.append(word_sentiment_score(word))\n",
    "    if (len(word_list) != 0):\n",
    "        avg = average(word_list)\n",
    "        sentiment_scores.append(avg)\n",
    "    else:\n",
    "        sentiment_scores.append(0)\n",
    "len(sentiment_scores)\n",
    "        "
   ]
  },
  {
   "cell_type": "code",
   "execution_count": 80,
   "id": "2b1a2622-6c07-4c0f-8fd0-9122b88aaebf",
   "metadata": {},
   "outputs": [
    {
     "data": {
      "text/html": [
       "<div>\n",
       "<style scoped>\n",
       "    .dataframe tbody tr th:only-of-type {\n",
       "        vertical-align: middle;\n",
       "    }\n",
       "\n",
       "    .dataframe tbody tr th {\n",
       "        vertical-align: top;\n",
       "    }\n",
       "\n",
       "    .dataframe thead th {\n",
       "        text-align: right;\n",
       "    }\n",
       "</style>\n",
       "<table border=\"1\" class=\"dataframe\">\n",
       "  <thead>\n",
       "    <tr style=\"text-align: right;\">\n",
       "      <th></th>\n",
       "      <th>sentiment_score</th>\n",
       "      <th>date</th>\n",
       "    </tr>\n",
       "  </thead>\n",
       "  <tbody>\n",
       "    <tr>\n",
       "      <th>0</th>\n",
       "      <td>0.095238</td>\n",
       "      <td>2021-04-09 20:42:50</td>\n",
       "    </tr>\n",
       "    <tr>\n",
       "      <th>1</th>\n",
       "      <td>0.600000</td>\n",
       "      <td>2021-04-09 19:32:31</td>\n",
       "    </tr>\n",
       "    <tr>\n",
       "      <th>2</th>\n",
       "      <td>0.222222</td>\n",
       "      <td>2021-04-09 19:25:31</td>\n",
       "    </tr>\n",
       "    <tr>\n",
       "      <th>3</th>\n",
       "      <td>0.000000</td>\n",
       "      <td>2021-04-09 19:06:21</td>\n",
       "    </tr>\n",
       "    <tr>\n",
       "      <th>4</th>\n",
       "      <td>-0.125000</td>\n",
       "      <td>2021-04-09 18:02:50</td>\n",
       "    </tr>\n",
       "  </tbody>\n",
       "</table>\n",
       "</div>"
      ],
      "text/plain": [
       "   sentiment_score                 date\n",
       "0         0.095238  2021-04-09 20:42:50\n",
       "1         0.600000  2021-04-09 19:32:31\n",
       "2         0.222222  2021-04-09 19:25:31\n",
       "3         0.000000  2021-04-09 19:06:21\n",
       "4        -0.125000  2021-04-09 18:02:50"
      ]
     },
     "execution_count": 80,
     "metadata": {},
     "output_type": "execute_result"
    }
   ],
   "source": [
    "df = pd.DataFrame(list(zip(sentiment_scores, happy_final['created_utc'] )),\n",
    "               columns =['sentiment_score', 'date'])\n",
    "df.head()"
   ]
  },
  {
   "cell_type": "code",
   "execution_count": 82,
   "id": "4813d13c-b43f-4cf3-a4c4-01e5e782008a",
   "metadata": {},
   "outputs": [
    {
     "data": {
      "image/png": "[encoded data removed]",
      "text/plain": [
       "<Figure size 864x576 with 1 Axes>"
      ]
     },
     "metadata": {},
     "output_type": "display_data"
    }
   ],
   "source": [
    "import matplotlib.pyplot as plt\n",
    "from matplotlib.dates import DateFormatter\n",
    "import matplotlib.dates as mdates\n",
    "\n",
    "fig, ax = plt.subplots(figsize=(12, 8))\n",
    "ax.scatter(df['date'], df['sentiment_score'], s =10, c = 'red')\n",
    "ax.xaxis.set_major_locator(mdates.WeekdayLocator(interval=4))\n",
    "ax.xaxis.set_major_formatter(DateFormatter(\"%Y\"))\n",
    "\n",
    "plt.show()"
   ]
  },
  {
   "cell_type": "code",
   "execution_count": null,
   "id": "ce5275d8-2553-4f42-a78d-048c6ab2f2a4",
   "metadata": {},
   "outputs": [],
   "source": [
    "# df = pd.DataFrame(cleaned, columns=[\"word\"])\n",
    "# df.to_csv('cleaned_happy_data.csv', index=False)"
   ]
  },
  {
   "cell_type": "markdown",
   "id": "4ce3fa19",
   "metadata": {},
   "source": [
    "Now that we have a cleaned output, we are going to use the VADER model (Valence Aware Dictionary for Sentiment Reasoning) to calculate the polarity score (valence) of each word"
   ]
  }
 ],
 "metadata": {
  "kernelspec": {
   "display_name": "Python 3 (ipykernel)",
   "language": "python",
   "name": "python3"
  },
  "language_info": {
   "codemirror_mode": {
    "name": "ipython",
    "version": 3
   },
   "file_extension": ".py",
   "mimetype": "text/x-python",
   "name": "python",
   "nbconvert_exporter": "python",
   "pygments_lexer": "ipython3",
   "version": "3.9.6"
  }
 },
 "nbformat": 4,
 "nbformat_minor": 5
}
