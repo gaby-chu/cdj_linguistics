{
 "cells": [
  {
   "cell_type": "markdown",
   "id": "690c4f45-a318-427d-84bd-640a845f6735",
   "metadata": {},
   "source": [
    "# r/Cornell Data"
   ]
  },
  {
   "cell_type": "markdown",
   "id": "e1e8d851-8fb6-48fd-8ce2-316ea4ebab6e",
   "metadata": {},
   "source": [
    "### Text Preprocessing"
   ]
  },
  {
   "cell_type": "code",
   "execution_count": 1,
   "id": "4600baec-7831-4ccc-99b8-319bfec4a271",
   "metadata": {},
   "outputs": [],
   "source": [
    "#!pip3 install emoji\n",
    "#!pip3 install nltk\n",
    "#!pip3 install spacy\n",
    "import pandas as pd\n",
    "import emoji as emoji\n",
    "import nltk\n",
    "from nltk.tokenize import RegexpTokenizer\n",
    "#!python -m spacy download en_core_web_sm\n",
    "import spacy\n",
    "import en_core_web_sm\n",
    "from nltk.stem import WordNetLemmatizer"
   ]
  },
  {
   "cell_type": "code",
   "execution_count": 3,
   "id": "5d371eee-b0ae-4e74-ad7f-768398975d27",
   "metadata": {},
   "outputs": [
    {
     "data": {
      "text/html": [
       "<div>\n",
       "<style scoped>\n",
       "    .dataframe tbody tr th:only-of-type {\n",
       "        vertical-align: middle;\n",
       "    }\n",
       "\n",
       "    .dataframe tbody tr th {\n",
       "        vertical-align: top;\n",
       "    }\n",
       "\n",
       "    .dataframe thead th {\n",
       "        text-align: right;\n",
       "    }\n",
       "</style>\n",
       "<table border=\"1\" class=\"dataframe\">\n",
       "  <thead>\n",
       "    <tr style=\"text-align: right;\">\n",
       "      <th></th>\n",
       "      <th>author</th>\n",
       "      <th>title</th>\n",
       "      <th>selftext</th>\n",
       "      <th>created_utc</th>\n",
       "      <th>created</th>\n",
       "      <th>score</th>\n",
       "      <th>num_comments</th>\n",
       "      <th>num_crossposts</th>\n",
       "    </tr>\n",
       "  </thead>\n",
       "  <tbody>\n",
       "    <tr>\n",
       "      <th>0</th>\n",
       "      <td>emzow</td>\n",
       "      <td>Good places to Slavic squat on campus?</td>\n",
       "      <td>NaN</td>\n",
       "      <td>2022-03-01 04:34:07</td>\n",
       "      <td>1.646124e+09</td>\n",
       "      <td>1</td>\n",
       "      <td>0</td>\n",
       "      <td>0</td>\n",
       "    </tr>\n",
       "    <tr>\n",
       "      <th>1</th>\n",
       "      <td>Its3amInRisley</td>\n",
       "      <td>COVID MEGATHREAD</td>\n",
       "      <td>Please guys remember to direct COVID stuff to ...</td>\n",
       "      <td>2022-03-01 04:22:08</td>\n",
       "      <td>1.646123e+09</td>\n",
       "      <td>1</td>\n",
       "      <td>0</td>\n",
       "      <td>0</td>\n",
       "    </tr>\n",
       "    <tr>\n",
       "      <th>2</th>\n",
       "      <td>sellingminifridge</td>\n",
       "      <td>Selling hasan minhaj ticket!</td>\n",
       "      <td>dm if anyone wants to buy one ticket for wedne...</td>\n",
       "      <td>2022-03-01 04:21:10</td>\n",
       "      <td>1.646123e+09</td>\n",
       "      <td>1</td>\n",
       "      <td>0</td>\n",
       "      <td>0</td>\n",
       "    </tr>\n",
       "    <tr>\n",
       "      <th>3</th>\n",
       "      <td>SwordfishInfamous</td>\n",
       "      <td>Is Louise open rn</td>\n",
       "      <td>Title</td>\n",
       "      <td>2022-03-01 04:19:52</td>\n",
       "      <td>1.646123e+09</td>\n",
       "      <td>1</td>\n",
       "      <td>0</td>\n",
       "      <td>0</td>\n",
       "    </tr>\n",
       "    <tr>\n",
       "      <th>4</th>\n",
       "      <td>HaliTheGreat</td>\n",
       "      <td>Anyone here in the Johnstown, Altoona, or Pitt...</td>\n",
       "      <td>I have a 4 hour drive to my town in West PA bu...</td>\n",
       "      <td>2022-03-01 04:17:59</td>\n",
       "      <td>1.646123e+09</td>\n",
       "      <td>1</td>\n",
       "      <td>0</td>\n",
       "      <td>0</td>\n",
       "    </tr>\n",
       "  </tbody>\n",
       "</table>\n",
       "</div>"
      ],
      "text/plain": [
       "              author                                              title  \\\n",
       "0              emzow             Good places to Slavic squat on campus?   \n",
       "1     Its3amInRisley                                   COVID MEGATHREAD   \n",
       "2  sellingminifridge                       Selling hasan minhaj ticket!   \n",
       "3  SwordfishInfamous                                  Is Louise open rn   \n",
       "4       HaliTheGreat  Anyone here in the Johnstown, Altoona, or Pitt...   \n",
       "\n",
       "                                            selftext          created_utc  \\\n",
       "0                                                NaN  2022-03-01 04:34:07   \n",
       "1  Please guys remember to direct COVID stuff to ...  2022-03-01 04:22:08   \n",
       "2  dm if anyone wants to buy one ticket for wedne...  2022-03-01 04:21:10   \n",
       "3                                              Title  2022-03-01 04:19:52   \n",
       "4  I have a 4 hour drive to my town in West PA bu...  2022-03-01 04:17:59   \n",
       "\n",
       "        created  score  num_comments  num_crossposts  \n",
       "0  1.646124e+09      1             0               0  \n",
       "1  1.646123e+09      1             0               0  \n",
       "2  1.646123e+09      1             0               0  \n",
       "3  1.646123e+09      1             0               0  \n",
       "4  1.646123e+09      1             0               0  "
      ]
     },
     "execution_count": 3,
     "metadata": {},
     "output_type": "execute_result"
    }
   ],
   "source": [
    "data = pd.read_csv(\"cornell_final.csv\")\n",
    "data.head()"
   ]
  },
  {
   "cell_type": "code",
   "execution_count": 14,
   "id": "8a848ed7-7f6c-4b86-b689-93e0b565c78b",
   "metadata": {},
   "outputs": [
    {
     "data": {
      "text/plain": [
       "49851"
      ]
     },
     "execution_count": 14,
     "metadata": {},
     "output_type": "execute_result"
    }
   ],
   "source": [
    "len(data)"
   ]
  },
  {
   "cell_type": "code",
   "execution_count": 36,
   "id": "4053afb5-9ee0-4b7a-807f-2c2fadc95ef2",
   "metadata": {},
   "outputs": [],
   "source": [
    "data = data[(data['selftext'] != '') & (data['selftext'] != '[removed]') \n",
    "                          & (data['selftext'] != '[deleted]') & (data['author'] != '[deleted]')]"
   ]
  },
  {
   "cell_type": "code",
   "execution_count": 37,
   "id": "a72595ae-cc73-4227-9eb6-f3ae34f76498",
   "metadata": {},
   "outputs": [
    {
     "data": {
      "text/plain": [
       "48499"
      ]
     },
     "execution_count": 37,
     "metadata": {},
     "output_type": "execute_result"
    }
   ],
   "source": [
    "len(data)"
   ]
  },
  {
   "cell_type": "code",
   "execution_count": 42,
   "id": "83718304-9ed5-4c2a-9f3c-6f5329b037e8",
   "metadata": {},
   "outputs": [],
   "source": [
    "data = data.dropna()"
   ]
  },
  {
   "cell_type": "code",
   "execution_count": 43,
   "id": "44385a70-5a21-4fb7-bd83-7fd5ac9a22a3",
   "metadata": {},
   "outputs": [],
   "source": [
    "data.reset_index(inplace = True)"
   ]
  },
  {
   "cell_type": "code",
   "execution_count": 44,
   "id": "dfdbf040-a2b2-468e-88cd-f210bbe20387",
   "metadata": {},
   "outputs": [
    {
     "data": {
      "text/html": [
       "<div>\n",
       "<style scoped>\n",
       "    .dataframe tbody tr th:only-of-type {\n",
       "        vertical-align: middle;\n",
       "    }\n",
       "\n",
       "    .dataframe tbody tr th {\n",
       "        vertical-align: top;\n",
       "    }\n",
       "\n",
       "    .dataframe thead th {\n",
       "        text-align: right;\n",
       "    }\n",
       "</style>\n",
       "<table border=\"1\" class=\"dataframe\">\n",
       "  <thead>\n",
       "    <tr style=\"text-align: right;\">\n",
       "      <th></th>\n",
       "      <th>index</th>\n",
       "      <th>author</th>\n",
       "      <th>title</th>\n",
       "      <th>selftext</th>\n",
       "      <th>created_utc</th>\n",
       "      <th>created</th>\n",
       "      <th>score</th>\n",
       "      <th>num_comments</th>\n",
       "      <th>num_crossposts</th>\n",
       "    </tr>\n",
       "  </thead>\n",
       "  <tbody>\n",
       "    <tr>\n",
       "      <th>0</th>\n",
       "      <td>1</td>\n",
       "      <td>Its3amInRisley</td>\n",
       "      <td>COVID MEGATHREAD</td>\n",
       "      <td>Please guys remember to direct COVID stuff to ...</td>\n",
       "      <td>2022-03-01 04:22:08</td>\n",
       "      <td>1.646123e+09</td>\n",
       "      <td>1</td>\n",
       "      <td>0</td>\n",
       "      <td>0</td>\n",
       "    </tr>\n",
       "    <tr>\n",
       "      <th>1</th>\n",
       "      <td>2</td>\n",
       "      <td>sellingminifridge</td>\n",
       "      <td>Selling hasan minhaj ticket!</td>\n",
       "      <td>dm if anyone wants to buy one ticket for wedne...</td>\n",
       "      <td>2022-03-01 04:21:10</td>\n",
       "      <td>1.646123e+09</td>\n",
       "      <td>1</td>\n",
       "      <td>0</td>\n",
       "      <td>0</td>\n",
       "    </tr>\n",
       "    <tr>\n",
       "      <th>2</th>\n",
       "      <td>4</td>\n",
       "      <td>HaliTheGreat</td>\n",
       "      <td>Anyone here in the Johnstown, Altoona, or Pitt...</td>\n",
       "      <td>I have a 4 hour drive to my town in West PA bu...</td>\n",
       "      <td>2022-03-01 04:17:59</td>\n",
       "      <td>1.646123e+09</td>\n",
       "      <td>1</td>\n",
       "      <td>0</td>\n",
       "      <td>0</td>\n",
       "    </tr>\n",
       "    <tr>\n",
       "      <th>3</th>\n",
       "      <td>7</td>\n",
       "      <td>WokeDarkQueenNY</td>\n",
       "      <td>Don’t wear masks if you don’t want to</td>\n",
       "      <td>This is ridiculous that they are still a thing</td>\n",
       "      <td>2022-03-01 03:43:46</td>\n",
       "      <td>1.646121e+09</td>\n",
       "      <td>1</td>\n",
       "      <td>0</td>\n",
       "      <td>0</td>\n",
       "    </tr>\n",
       "    <tr>\n",
       "      <th>4</th>\n",
       "      <td>8</td>\n",
       "      <td>lilacandflowers</td>\n",
       "      <td>Finding someone</td>\n",
       "      <td>Not to be cocky, but I’m an objectively powerf...</td>\n",
       "      <td>2022-03-01 03:10:59</td>\n",
       "      <td>1.646119e+09</td>\n",
       "      <td>1</td>\n",
       "      <td>0</td>\n",
       "      <td>0</td>\n",
       "    </tr>\n",
       "  </tbody>\n",
       "</table>\n",
       "</div>"
      ],
      "text/plain": [
       "   index             author  \\\n",
       "0      1     Its3amInRisley   \n",
       "1      2  sellingminifridge   \n",
       "2      4       HaliTheGreat   \n",
       "3      7    WokeDarkQueenNY   \n",
       "4      8    lilacandflowers   \n",
       "\n",
       "                                               title  \\\n",
       "0                                   COVID MEGATHREAD   \n",
       "1                       Selling hasan minhaj ticket!   \n",
       "2  Anyone here in the Johnstown, Altoona, or Pitt...   \n",
       "3              Don’t wear masks if you don’t want to   \n",
       "4                                    Finding someone   \n",
       "\n",
       "                                            selftext          created_utc  \\\n",
       "0  Please guys remember to direct COVID stuff to ...  2022-03-01 04:22:08   \n",
       "1  dm if anyone wants to buy one ticket for wedne...  2022-03-01 04:21:10   \n",
       "2  I have a 4 hour drive to my town in West PA bu...  2022-03-01 04:17:59   \n",
       "3     This is ridiculous that they are still a thing  2022-03-01 03:43:46   \n",
       "4  Not to be cocky, but I’m an objectively powerf...  2022-03-01 03:10:59   \n",
       "\n",
       "        created  score  num_comments  num_crossposts  \n",
       "0  1.646123e+09      1             0               0  \n",
       "1  1.646123e+09      1             0               0  \n",
       "2  1.646123e+09      1             0               0  \n",
       "3  1.646121e+09      1             0               0  \n",
       "4  1.646119e+09      1             0               0  "
      ]
     },
     "execution_count": 44,
     "metadata": {},
     "output_type": "execute_result"
    }
   ],
   "source": [
    "data.head()"
   ]
  },
  {
   "cell_type": "code",
   "execution_count": 45,
   "id": "74ef7ada-afd9-4457-a5dd-bef271d4d588",
   "metadata": {},
   "outputs": [
    {
     "name": "stdout",
     "output_type": "stream",
     "text": [
      "Total posts scraped: 39414\n"
     ]
    }
   ],
   "source": [
    "text_all = []\n",
    "for i in data.loc[:,\"selftext\"]:\n",
    "    text_all.append(i)\n",
    "print('Total posts scraped:', len(text_all))"
   ]
  },
  {
   "cell_type": "code",
   "execution_count": 46,
   "id": "a31f71eb-6a3b-4391-8713-4779896877e9",
   "metadata": {},
   "outputs": [],
   "source": [
    "text_list = text_all\n",
    "text_list = [str(i) for i in text_list] #this makes every title into a string itself but separated by commas "
   ]
  },
  {
   "cell_type": "code",
   "execution_count": 47,
   "id": "0eb4c9ba-d49e-4df9-8d27-edd2ec781496",
   "metadata": {},
   "outputs": [],
   "source": [
    "#removing emojis\n",
    "def give_emoji_free_text(text): \n",
    "    return emoji.get_emoji_regexp().sub(r'', text)\n",
    "\n",
    "text_clean = [give_emoji_free_text(i) for i in text_list]"
   ]
  },
  {
   "cell_type": "markdown",
   "id": "4477a5f2-241b-4b97-a37f-71c64cf1f7a8",
   "metadata": {},
   "source": [
    "### Tokenization and Stopword Removal"
   ]
  },
  {
   "cell_type": "code",
   "execution_count": 48,
   "id": "94685fed-9d3d-46f3-9b30-8b9d9cb4e6f7",
   "metadata": {},
   "outputs": [
    {
     "name": "stdout",
     "output_type": "stream",
     "text": [
      "[['Please', 'guys', 'remember', 'to', 'direct', 'COVID', 'stuff', 'to', 'the', 'COVID', 'megathread', 'There', 'is', 'a', 'lot', 'of', 'good', 'stuff', 'being', 'talked', 'about', 'there', 'right', 'now', 'about', 'the', 'mask', 'mandate', 'possibly', 'getting', 'lifted', 'for', 'Wednesday', 'or', 'next', 'week', 'Really', 'good', 'conversation', 'check', 'out', 'the', 'megathread'], ['dm', 'if', 'anyone', 'wants', 'to', 'buy', 'one', 'ticket', 'for', 'wednesday'], ['I', 'have', 'a', '4', 'hour', 'drive', 'to', 'my', 'town', 'in', 'West', 'PA', 'but', 'if', 'I', 'am', 'able', 'to', 'make', 'it', 'to', 'one', 'of', 'these', 'places', 'the', 'drive', 'is', 'easier', 'for', 'my', 'parents', 'I', 'would', 'just', 'go', 'with', 'you', 'to', 'whatever', 'city', 'you', 'are', 'in', 'and', 'then', 'link', 'up', 'with', 'my', 'parents', 'there', 'I', 'am', 'willing', 'to', 'pay', 'gas', 'and', 'buy', 'you', 'food', 'and', 'whatever'], ['This', 'is', 'ridiculous', 'that', 'they', 'are', 'still', 'a', 'thing'], ['Not', 'to', 'be', 'cocky', 'but', 'I', 'm', 'an', 'objectively', 'powerful', 'firebender', 'I', 'm', '6', '9', 'ripped', 'skilled', 'swordsman', 'hier', 'to', 'the', 'throne', 'tea', 'drinker', 'teenager', 'fire', 'prince', 'and', 'maybe', 'honorable', 'However', 'I', 'just', 'cannot', 'find', 'an', 'avatar', 'to', 'capture', 'Maybe', 'its', 'just', 'because', 'I', 'm', 'just', 'so', 'much', 'hotter', 'than', 'everyone', 'else', 'idk']]\n"
     ]
    }
   ],
   "source": [
    "tokenizer = RegexpTokenizer('\\w+|\\$[\\d\\.]+|\\S+?!!!')\n",
    "tokenized_string = [tokenizer.tokenize(i) for i in text_clean]\n",
    "print(tokenized_string[:5])"
   ]
  },
  {
   "cell_type": "code",
   "execution_count": 49,
   "id": "3f29eb22-b4fa-4077-90e0-f0f39935a80f",
   "metadata": {},
   "outputs": [
    {
     "name": "stdout",
     "output_type": "stream",
     "text": [
      "[['please', 'guys', 'remember', 'to', 'direct', 'covid', 'stuff', 'to', 'the', 'covid', 'megathread', 'there', 'is', 'a', 'lot', 'of', 'good', 'stuff', 'being', 'talked', 'about', 'there', 'right', 'now', 'about', 'the', 'mask', 'mandate', 'possibly', 'getting', 'lifted', 'for', 'wednesday', 'or', 'next', 'week', 'really', 'good', 'conversation', 'check', 'out', 'the', 'megathread'], ['dm', 'if', 'anyone', 'wants', 'to', 'buy', 'one', 'ticket', 'for', 'wednesday'], ['i', 'have', 'a', '4', 'hour', 'drive', 'to', 'my', 'town', 'in', 'west', 'pa', 'but', 'if', 'i', 'am', 'able', 'to', 'make', 'it', 'to', 'one', 'of', 'these', 'places', 'the', 'drive', 'is', 'easier', 'for', 'my', 'parents', 'i', 'would', 'just', 'go', 'with', 'you', 'to', 'whatever', 'city', 'you', 'are', 'in', 'and', 'then', 'link', 'up', 'with', 'my', 'parents', 'there', 'i', 'am', 'willing', 'to', 'pay', 'gas', 'and', 'buy', 'you', 'food', 'and', 'whatever'], ['this', 'is', 'ridiculous', 'that', 'they', 'are', 'still', 'a', 'thing'], ['not', 'to', 'be', 'cocky', 'but', 'i', 'm', 'an', 'objectively', 'powerful', 'firebender', 'i', 'm', '6', '9', 'ripped', 'skilled', 'swordsman', 'hier', 'to', 'the', 'throne', 'tea', 'drinker', 'teenager', 'fire', 'prince', 'and', 'maybe', 'honorable', 'however', 'i', 'just', 'cannot', 'find', 'an', 'avatar', 'to', 'capture', 'maybe', 'its', 'just', 'because', 'i', 'm', 'just', 'so', 'much', 'hotter', 'than', 'everyone', 'else', 'idk']]\n"
     ]
    }
   ],
   "source": [
    "lower_case = []\n",
    "for sent in tokenized_string:\n",
    "    word_list = []\n",
    "    for word in sent:\n",
    "        word_list.append(word.lower())\n",
    "    lower_case.append(word_list)\n",
    "\n",
    "print(lower_case[:5])"
   ]
  },
  {
   "cell_type": "code",
   "execution_count": 50,
   "id": "9db49bd6-70b5-489d-b9cc-eec8bfca882d",
   "metadata": {},
   "outputs": [
    {
     "name": "stdout",
     "output_type": "stream",
     "text": [
      "Our stopword list ['i', 'me', 'my', 'myself', 'we', 'our', 'ours', 'ourselves', 'you', \"you're\", \"you've\", \"you'll\", \"you'd\", 'your', 'yours', 'yourself', 'yourselves', 'he', 'him', 'his', 'himself', 'she', \"she's\", 'her', 'hers', 'herself', 'it', \"it's\", 'its', 'itself', 'they', 'them', 'their', 'theirs', 'themselves', 'what', 'which', 'who', 'whom', 'this', 'that', \"that'll\", 'these', 'those', 'am', 'is', 'are', 'was', 'were', 'be', 'been', 'being', 'have', 'has', 'had', 'having', 'do', 'does', 'did', 'doing', 'a', 'an', 'the', 'and', 'but', 'if', 'or', 'because', 'as', 'until', 'while', 'of', 'at', 'by', 'for', 'with', 'about', 'against', 'between', 'into', 'through', 'during', 'before', 'after', 'above', 'below', 'to', 'from', 'up', 'down', 'in', 'out', 'on', 'off', 'over', 'under', 'again', 'further', 'then', 'once', 'here', 'there', 'when', 'where', 'why', 'how', 'all', 'any', 'both', 'each', 'few', 'more', 'most', 'other', 'some', 'such', 'no', 'nor', 'not', 'only', 'own', 'same', 'so', 'than', 'too', 'very', 's', 't', 'can', 'will', 'just', 'don', \"don't\", 'should', \"should've\", 'now', 'd', 'll', 'm', 'o', 're', 've', 'y', 'ain', 'aren', \"aren't\", 'couldn', \"couldn't\", 'didn', \"didn't\", 'doesn', \"doesn't\", 'hadn', \"hadn't\", 'hasn', \"hasn't\", 'haven', \"haven't\", 'isn', \"isn't\", 'ma', 'mightn', \"mightn't\", 'mustn', \"mustn't\", 'needn', \"needn't\", 'shan', \"shan't\", 'shouldn', \"shouldn't\", 'wasn', \"wasn't\", 'weren', \"weren't\", 'won', \"won't\", 'wouldn', \"wouldn't\", '!', '\"', '#', '$', '%', '&', \"'\", '(', ')', '*', '+', ',', '-', '.', '/', ':', ';', '<', '=', '>', '?', '@', '[', '\\\\', ']', '^', '_', '`', '{', '|', '}', '~', '0', '1', '2', '3', '4', '5', '6', '7', '8', '9']\n"
     ]
    }
   ],
   "source": [
    "import string\n",
    "from nltk.corpus import stopwords\n",
    "\n",
    "stops = stopwords.words('english') # NLTK's short list of English stopwords\n",
    "\n",
    "for punct in string.punctuation:\n",
    "    stops.append(punct) # Add punctuation marks to stoplist\n",
    "numbers = ['0','1','2','3','4','5','6','7','8','9']\n",
    "for num in numbers:\n",
    "    stops.append(num)\n",
    "print(\"Our stopword list\", stops)"
   ]
  },
  {
   "cell_type": "code",
   "execution_count": 51,
   "id": "0e2732df-4501-4f53-9b55-6287cdffc878",
   "metadata": {},
   "outputs": [
    {
     "data": {
      "text/plain": [
       "[['please',\n",
       "  'guys',\n",
       "  'remember',\n",
       "  'direct',\n",
       "  'covid',\n",
       "  'stuff',\n",
       "  'covid',\n",
       "  'megathread',\n",
       "  'lot',\n",
       "  'good',\n",
       "  'stuff',\n",
       "  'talked',\n",
       "  'right',\n",
       "  'mask',\n",
       "  'mandate',\n",
       "  'possibly',\n",
       "  'getting',\n",
       "  'lifted',\n",
       "  'wednesday',\n",
       "  'next',\n",
       "  'week',\n",
       "  'really',\n",
       "  'good',\n",
       "  'conversation',\n",
       "  'check',\n",
       "  'megathread'],\n",
       " ['dm', 'anyone', 'wants', 'buy', 'one', 'ticket', 'wednesday']]"
      ]
     },
     "execution_count": 51,
     "metadata": {},
     "output_type": "execute_result"
    }
   ],
   "source": [
    "no_stop =[]\n",
    "for sent in lower_case:\n",
    "    no_stop_sent =[]\n",
    "    for word in sent:\n",
    "        if word not in stops:\n",
    "            no_stop_sent.append(word)\n",
    "    no_stop.append(no_stop_sent)\n",
    "no_stop[:2]\n",
    "    "
   ]
  },
  {
   "cell_type": "markdown",
   "id": "ab521240-7fb7-4799-ba27-7d60315a888b",
   "metadata": {},
   "source": [
    "### Sentiment Scoring"
   ]
  },
  {
   "cell_type": "code",
   "execution_count": 54,
   "id": "43c84c4c-21b0-4c20-82f8-5f205e9be333",
   "metadata": {},
   "outputs": [],
   "source": [
    "def word_sentiment_score(word, method='nrc', lex=nrc_lexicon):\n",
    "    '''\n",
    "    Takes a word, optional method in ['nrc', 'nltk'], and optional lexicon dictionary.\n",
    "    Returns 1 (if positive), -1 (if negative), 0 (neutral), or None (not in lex).\n",
    "    '''\n",
    "    word = word.lower() # Handle non-case-folded inputs\n",
    "    if method.lower() == 'nrc':\n",
    "        if word in lex: # Only score words that are in the lexicon\n",
    "            pos = lex[word]['positive']\n",
    "            neg = lex[word]['negative']\n",
    "            if pos == neg: # Ties (mostly 0==0) return zero\n",
    "                return 0\n",
    "            elif pos > neg:\n",
    "                return 1\n",
    "            else:\n",
    "                return -1\n",
    "    elif method.lower() == 'nltk':\n",
    "        if word in lex['positive']:\n",
    "            return 1\n",
    "        elif word in lex['negative']:\n",
    "            return -1\n",
    "    else:\n",
    "        raise NameError(\"Method not in ['nrc', 'nltk']\")\n",
    "    return 0"
   ]
  },
  {
   "cell_type": "code",
   "execution_count": 55,
   "id": "84b3baab-58f4-4597-8603-ad5d6cfe7b25",
   "metadata": {},
   "outputs": [
    {
     "data": {
      "text/plain": [
       "39414"
      ]
     },
     "execution_count": 55,
     "metadata": {},
     "output_type": "execute_result"
    }
   ],
   "source": [
    "def average(lst):\n",
    "    return sum(lst) / len(lst)\n",
    "\n",
    "sentiment_scores = []\n",
    "for sent in no_stop:\n",
    "    word_list =[]\n",
    "    for word in sent:\n",
    "        word_list.append(word_sentiment_score(word))\n",
    "    if (len(word_list) != 0):\n",
    "        avg = average(word_list)\n",
    "        sentiment_scores.append(avg)\n",
    "    else:\n",
    "        sentiment_scores.append(0)\n",
    "len(sentiment_scores)\n",
    "        "
   ]
  },
  {
   "cell_type": "code",
   "execution_count": 57,
   "id": "168edef8-70eb-4a9f-8ab4-cc6bd55154d4",
   "metadata": {},
   "outputs": [],
   "source": [
    "df = pd.DataFrame(list(zip(sentiment_scores, data['created_utc'] )),\n",
    "               columns =['sentiment_score', 'date'])\n",
    "df.sort_values('date', inplace = True)\n",
    "\n",
    "# convert to date\n",
    "df['date'] = pd.to_datetime(df['date'])"
   ]
  },
  {
   "cell_type": "code",
   "execution_count": 89,
   "id": "bee34dd3-efa4-49af-b3fc-1ee9f1cfbf6d",
   "metadata": {},
   "outputs": [
    {
     "data": {
      "text/plain": [
       "0.04041717756862464"
      ]
     },
     "execution_count": 89,
     "metadata": {},
     "output_type": "execute_result"
    }
   ],
   "source": [
    "# sample mean sentiment for one day\n",
    "(df[df['date'] < '2019-03-02']['sentiment_score']).mean()"
   ]
  },
  {
   "cell_type": "code",
   "execution_count": 96,
   "id": "de30de13-ca74-441a-8e21-6e86d325ba37",
   "metadata": {},
   "outputs": [
    {
     "data": {
      "text/plain": [
       "date\n",
       "2019-03-01    0.040417\n",
       "2019-03-02    0.084481\n",
       "2019-03-03    0.102273\n",
       "2019-03-04    0.076699\n",
       "2019-03-05    0.063876\n",
       "Name: sentiment_score, dtype: float64"
      ]
     },
     "execution_count": 96,
     "metadata": {},
     "output_type": "execute_result"
    }
   ],
   "source": [
    "# average sentiment for each day\n",
    "daily_avg_sent = df.groupby([df[\"date\"].dt.date])[\"sentiment_score\"].mean()\n",
    "daily_avg_sent.head()"
   ]
  },
  {
   "cell_type": "code",
   "execution_count": 172,
   "id": "6b85b913-e0eb-4871-839d-82e79af9aa45",
   "metadata": {},
   "outputs": [
    {
     "data": {
      "image/png": "[encoded data removed]",
      "text/plain": [
       "<Figure size 864x576 with 1 Axes>"
      ]
     },
     "metadata": {
      "needs_background": "light"
     },
     "output_type": "display_data"
    }
   ],
   "source": [
    "import matplotlib.pyplot as plt\n",
    "from matplotlib.dates import DateFormatter\n",
    "import matplotlib.dates as mdates\n",
    "from matplotlib.dates import MO, TU, WE, TH, FR, SA, SU\n",
    "\n",
    "fig, ax = plt.subplots(figsize=(12, 8))\n",
    "\n",
    "ax.scatter(daily_avg_sent.index, daily_avg_sent.values, s =10, c = 'xkcd:grey green')\n",
    "\n",
    "# ticks on Mondays every 4 weeks \n",
    "ax.xaxis.set_major_locator(mdates.WeekdayLocator(byweekday=MO, interval=4))\n",
    "ax.xaxis.set_major_formatter(DateFormatter('%m-%Y'))\n",
    "plt.xticks(rotation = 50)\n",
    "plt.title(\"r/Cornell Sentiment Scores per day (March 2019 - March 2022)\")\n",
    "\n",
    "plt.show()"
   ]
  },
  {
   "cell_type": "code",
   "execution_count": 203,
   "id": "a70df3e8-5641-47cc-9d71-089f432396af",
   "metadata": {},
   "outputs": [
    {
     "data": {
      "image/png": "[encoded data removed]",
      "text/plain": [
       "<Figure size 864x576 with 1 Axes>"
      ]
     },
     "metadata": {
      "needs_background": "light"
     },
     "output_type": "display_data"
    }
   ],
   "source": [
    "weekly_avg_sent = df.groupby([df['date'].dt.year, df['date'].dt.month]).mean()\n",
    "weekly_avg_sent.head()\n",
    "\n",
    "import matplotlib.pyplot as plt\n",
    "from matplotlib.dates import DateFormatter\n",
    "import matplotlib.dates as mdates\n",
    "\n",
    "fig, ax = plt.subplots(figsize=(12, 8))\n",
    "\n",
    "idx = weekly_avg_sent.index\n",
    "idx = idx.to_series().apply(lambda x: '{0}-{1}'.format(*x))\n",
    "\n",
    "ax.plot(idx, weekly_avg_sent.sentiment_score)\n",
    "\n",
    "#ax.xaxis.set_major_locator(mdates.WeekdayLocator(byweekday=MO, interval=4))\n",
    "#ax.xaxis.set_major_formatter(DateFormatter('%Y'))\n",
    "plt.xticks(rotation = 50)\n",
    "plt.title(\"r/Cornell Sentiment Scores per month (March 2019 - March 2022)\")\n",
    "\n",
    "plt.show()"
   ]
  },
  {
   "cell_type": "code",
   "execution_count": null,
   "id": "ae84c1bc-ef22-4003-8179-975761b3f5f6",
   "metadata": {},
   "outputs": [],
   "source": []
  },
  {
   "cell_type": "markdown",
   "id": "de4d3e17-0a32-42a7-9b64-b2a2905d4fc4",
   "metadata": {
    "tags": []
   },
   "source": [
    "### Sentiment Dictionaries"
   ]
  },
  {
   "cell_type": "code",
   "execution_count": 204,
   "id": "d4ceb487-8149-46c3-98b0-d4c125f2ad93",
   "metadata": {},
   "outputs": [],
   "source": [
    "from   collections import defaultdict\n",
    "from   glob import glob\n",
    "from   nltk import word_tokenize, sent_tokenize\n",
    "import numpy as np\n",
    "import os\n",
    "import string"
   ]
  },
  {
   "cell_type": "code",
   "execution_count": 235,
   "id": "473f2c27-dd9b-46a6-8ac6-80424f4fac6b",
   "metadata": {},
   "outputs": [
    {
     "data": {
      "text/html": [
       "<div>\n",
       "<style scoped>\n",
       "    .dataframe tbody tr th:only-of-type {\n",
       "        vertical-align: middle;\n",
       "    }\n",
       "\n",
       "    .dataframe tbody tr th {\n",
       "        vertical-align: top;\n",
       "    }\n",
       "\n",
       "    .dataframe thead th {\n",
       "        text-align: right;\n",
       "    }\n",
       "</style>\n",
       "<table border=\"1\" class=\"dataframe\">\n",
       "  <thead>\n",
       "    <tr style=\"text-align: right;\">\n",
       "      <th></th>\n",
       "      <th>sentiment_score</th>\n",
       "      <th>date</th>\n",
       "    </tr>\n",
       "    <tr>\n",
       "      <th>date</th>\n",
       "      <th></th>\n",
       "      <th></th>\n",
       "    </tr>\n",
       "  </thead>\n",
       "  <tbody>\n",
       "    <tr>\n",
       "      <th>2019-03-01 08:12:10</th>\n",
       "      <td>0.072464</td>\n",
       "      <td>2019-03-01 08:12:10</td>\n",
       "    </tr>\n",
       "    <tr>\n",
       "      <th>2019-03-01 12:53:28</th>\n",
       "      <td>0.153846</td>\n",
       "      <td>2019-03-01 12:53:28</td>\n",
       "    </tr>\n",
       "    <tr>\n",
       "      <th>2019-03-01 15:57:35</th>\n",
       "      <td>0.000000</td>\n",
       "      <td>2019-03-01 15:57:35</td>\n",
       "    </tr>\n",
       "    <tr>\n",
       "      <th>2019-03-01 16:23:17</th>\n",
       "      <td>0.100000</td>\n",
       "      <td>2019-03-01 16:23:17</td>\n",
       "    </tr>\n",
       "    <tr>\n",
       "      <th>2019-03-01 17:29:55</th>\n",
       "      <td>-0.142857</td>\n",
       "      <td>2019-03-01 17:29:55</td>\n",
       "    </tr>\n",
       "    <tr>\n",
       "      <th>...</th>\n",
       "      <td>...</td>\n",
       "      <td>...</td>\n",
       "    </tr>\n",
       "    <tr>\n",
       "      <th>2022-03-01 03:10:59</th>\n",
       "      <td>0.185185</td>\n",
       "      <td>2022-03-01 03:10:59</td>\n",
       "    </tr>\n",
       "    <tr>\n",
       "      <th>2022-03-01 03:43:46</th>\n",
       "      <td>-0.333333</td>\n",
       "      <td>2022-03-01 03:43:46</td>\n",
       "    </tr>\n",
       "    <tr>\n",
       "      <th>2022-03-01 04:17:59</th>\n",
       "      <td>0.083333</td>\n",
       "      <td>2022-03-01 04:17:59</td>\n",
       "    </tr>\n",
       "    <tr>\n",
       "      <th>2022-03-01 04:21:10</th>\n",
       "      <td>0.000000</td>\n",
       "      <td>2022-03-01 04:21:10</td>\n",
       "    </tr>\n",
       "    <tr>\n",
       "      <th>2022-03-01 04:22:08</th>\n",
       "      <td>0.076923</td>\n",
       "      <td>2022-03-01 04:22:08</td>\n",
       "    </tr>\n",
       "  </tbody>\n",
       "</table>\n",
       "<p>39414 rows × 2 columns</p>\n",
       "</div>"
      ],
      "text/plain": [
       "                     sentiment_score                date\n",
       "date                                                    \n",
       "2019-03-01 08:12:10         0.072464 2019-03-01 08:12:10\n",
       "2019-03-01 12:53:28         0.153846 2019-03-01 12:53:28\n",
       "2019-03-01 15:57:35         0.000000 2019-03-01 15:57:35\n",
       "2019-03-01 16:23:17         0.100000 2019-03-01 16:23:17\n",
       "2019-03-01 17:29:55        -0.142857 2019-03-01 17:29:55\n",
       "...                              ...                 ...\n",
       "2022-03-01 03:10:59         0.185185 2022-03-01 03:10:59\n",
       "2022-03-01 03:43:46        -0.333333 2022-03-01 03:43:46\n",
       "2022-03-01 04:17:59         0.083333 2022-03-01 04:17:59\n",
       "2022-03-01 04:21:10         0.000000 2022-03-01 04:21:10\n",
       "2022-03-01 04:22:08         0.076923 2022-03-01 04:22:08\n",
       "\n",
       "[39414 rows x 2 columns]"
      ]
     },
     "execution_count": 235,
     "metadata": {},
     "output_type": "execute_result"
    }
   ],
   "source": [
    "df"
   ]
  },
  {
   "cell_type": "code",
   "execution_count": 205,
   "id": "2d630fa8-ee71-4d63-90e8-6f9b7b7d011e",
   "metadata": {},
   "outputs": [],
   "source": [
    "# A freebie helper function to read and parse the emolex file\n",
    "def read_emolex(filepath=None):\n",
    "    '''\n",
    "    Takes a file path to the emolex lexicon file.\n",
    "    Returns a dictionary of emolex sentiment values.\n",
    "    '''\n",
    "    if filepath==None: # Try to find the emolex file\n",
    "        filepath = os.path.join('info3350-s22','data','lexicons','emolex.txt')\n",
    "        if os.path.isfile(filepath):\n",
    "            pass\n",
    "        elif os.path.isfile('emolex.txt'):\n",
    "            filepath = 'emolex.txt'\n",
    "        else:\n",
    "            raise FileNotFoundError('No EmoLex file found')\n",
    "    emolex = defaultdict(dict) # Like Counter(), defaultdict eases dictionary creation\n",
    "    with open(filepath, 'r') as f:\n",
    "    # emolex file format is: word emotion value\n",
    "        for line in f:\n",
    "            word, emotion, value = line.strip().split()\n",
    "            emolex[word][emotion] = int(value)\n",
    "    return emolex\n",
    "\n",
    "# Get EmoLex data. Make sure you set the right file path above.\n",
    "emolex = read_emolex(emolex_file)"
   ]
  },
  {
   "cell_type": "code",
   "execution_count": 206,
   "id": "4aac9ff8-2d08-4232-a6a6-7970b8078506",
   "metadata": {},
   "outputs": [],
   "source": [
    "# Define your sentiment_score function here\n",
    "def sentiment_score(sentence, emolex):\n",
    "    \n",
    "    from collections import Counter \n",
    "    \n",
    "    sent_score = Counter()\n",
    "    \n",
    "    for token in sentence:\n",
    "        if token in emolex.keys() and emolex[token]:\n",
    "            sent_score.update((Counter(emolex[token])))\n",
    "            \n",
    "    for key in sent_score:\n",
    "        sent_score[key] /= len(sentence)\n",
    "        \n",
    "    \n",
    "    return dict(sent_score)"
   ]
  },
  {
   "cell_type": "code",
   "execution_count": 219,
   "id": "c7480f37-eb4a-4a4c-b9b6-0ddf7ecb097e",
   "metadata": {},
   "outputs": [],
   "source": [
    "# Run sentiment_score function on each post and print results\n",
    "\n",
    "scores = []\n",
    "x = 1\n",
    "for token in no_stop:\n",
    "    #print(\"Sentence\", x, \"Score:\")\n",
    "    score = sentiment_score(token, emolex)\n",
    "    #print(\"\\n\")\n",
    "    scores.append(score)\n",
    "    x += 1\n",
    "    "
   ]
  },
  {
   "cell_type": "code",
   "execution_count": 220,
   "id": "4603f07f-3a77-4f22-8e73-9641ebf5de01",
   "metadata": {},
   "outputs": [
    {
     "data": {
      "text/plain": [
       "39414"
      ]
     },
     "execution_count": 220,
     "metadata": {},
     "output_type": "execute_result"
    }
   ],
   "source": [
    "len(scores)"
   ]
  },
  {
   "cell_type": "code",
   "execution_count": 251,
   "id": "91efbd4c-130a-4645-8513-82ad92d512c3",
   "metadata": {},
   "outputs": [
    {
     "data": {
      "text/plain": [
       "[{'anger': 0.0,\n",
       "  'anticipation': 0.07692307692307693,\n",
       "  'disgust': 0.0,\n",
       "  'fear': 0.0,\n",
       "  'joy': 0.07692307692307693,\n",
       "  'negative': 0.0,\n",
       "  'positive': 0.07692307692307693,\n",
       "  'sadness': 0.0,\n",
       "  'surprise': 0.07692307692307693,\n",
       "  'trust': 0.07692307692307693},\n",
       " {'anger': 0.0,\n",
       "  'anticipation': 0.0,\n",
       "  'disgust': 0.0,\n",
       "  'fear': 0.0,\n",
       "  'joy': 0.0,\n",
       "  'negative': 0.0,\n",
       "  'positive': 0.0,\n",
       "  'sadness': 0.0,\n",
       "  'surprise': 0.0,\n",
       "  'trust': 0.0},\n",
       " {'anger': 0.0,\n",
       "  'anticipation': 0.041666666666666664,\n",
       "  'disgust': 0.0,\n",
       "  'fear': 0.0,\n",
       "  'joy': 0.08333333333333333,\n",
       "  'negative': 0.0,\n",
       "  'positive': 0.08333333333333333,\n",
       "  'sadness': 0.0,\n",
       "  'surprise': 0.0,\n",
       "  'trust': 0.08333333333333333}]"
      ]
     },
     "execution_count": 251,
     "metadata": {},
     "output_type": "execute_result"
    }
   ],
   "source": [
    "scores[:3]"
   ]
  },
  {
   "cell_type": "code",
   "execution_count": 260,
   "id": "ef4d9d8f-6543-4962-b556-dbc511218b66",
   "metadata": {},
   "outputs": [],
   "source": [
    "%matplotlib inline\n",
    "def visualize_emotion_scores(scores):\n",
    "    import pandas as pd\n",
    "    import seaborn as sns\n",
    "    df = pd.DataFrame.from_dict(scores)\n",
    "    values = df.columns\n",
    "    df = df.reset_index().melt(id_vars='index', value_vars=values, var_name='emotion')\n",
    "    sns.set_context('poster')\n",
    "    g = sns.catplot(x='value', y='value', col='emotion', data=df, kind='bar', col_wrap=4)\n",
    "    return g"
   ]
  },
  {
   "cell_type": "code",
   "execution_count": 261,
   "id": "f3e25d59-e3e8-4586-b41c-b63ad7e4b0f5",
   "metadata": {},
   "outputs": [
    {
     "data": {
      "text/plain": [
       "<seaborn.axisgrid.FacetGrid at 0x7f91c487caf0>"
      ]
     },
     "execution_count": 261,
     "metadata": {},
     "output_type": "execute_result"
    },
    {
     "data": {
      "image/png": "[encoded data removed]",
      "text/plain": [
       "<Figure size 1440x1080 with 10 Axes>"
      ]
     },
     "metadata": {
      "needs_background": "light"
     },
     "output_type": "display_data"
    }
   ],
   "source": [
    "visualize_emotion_scores(scores)"
   ]
  },
  {
   "cell_type": "code",
   "execution_count": null,
   "id": "85e03f40-53fb-488e-bc40-00b7befeb009",
   "metadata": {},
   "outputs": [],
   "source": []
  }
 ],
 "metadata": {
  "kernelspec": {
   "display_name": "Python 3 (ipykernel)",
   "language": "python",
   "name": "python3"
  },
  "language_info": {
   "codemirror_mode": {
    "name": "ipython",
    "version": 3
   },
   "file_extension": ".py",
   "mimetype": "text/x-python",
   "name": "python",
   "nbconvert_exporter": "python",
   "pygments_lexer": "ipython3",
   "version": "3.9.7"
  }
 },
 "nbformat": 4,
 "nbformat_minor": 5
}
