{
 "cells": [
  {
   "cell_type": "markdown",
   "id": "26597e8d",
   "metadata": {},
   "source": [
    "# Linguistics\n",
    "####  Web Scraping Reddit\n",
    "\n",
    "Though Reddit has its own API, there is a more popular API for working with Reddit called **Pushshift**. You can read more about Pushshift in this [arXiv article](https://arxiv.org/abs/2001.08435). (PDF)\n",
    "\n",
    "> Why do people use Pushshift’s API instead of the official Reddit API?\n",
    ">\n",
    ">In short, Pushshift makes it much easier for researchers to query and retrieve historical Reddit data, provides extended functionality by providing fulltext search against comments and submissions, and has larger single query limits.\n",
    ">\n",
    ">Jason Baumgartner, et al., \"The Pushshift Reddit Dataset\"\n",
    "\n",
    "#### Install PSAW\n",
    "\n",
    "To work with the Pushshift API, we're going to install and use a Python wrapper called [PSAW](https://github.com/dmarx/psaw)."
   ]
  },
  {
   "cell_type": "code",
   "execution_count": 1,
   "id": "981ba53b",
   "metadata": {},
   "outputs": [
    {
     "name": "stdout",
     "output_type": "stream",
     "text": [
      "Requirement already satisfied: psaw in /Users/gabychu/opt/anaconda3/lib/python3.8/site-packages (0.1.0)\n",
      "Requirement already satisfied: requests in /Users/gabychu/opt/anaconda3/lib/python3.8/site-packages (from psaw) (2.25.1)\n",
      "Requirement already satisfied: Click in /Users/gabychu/opt/anaconda3/lib/python3.8/site-packages (from psaw) (7.1.2)\n",
      "Requirement already satisfied: urllib3<1.27,>=1.21.1 in /Users/gabychu/opt/anaconda3/lib/python3.8/site-packages (from requests->psaw) (1.26.4)\n",
      "Requirement already satisfied: certifi>=2017.4.17 in /Users/gabychu/opt/anaconda3/lib/python3.8/site-packages (from requests->psaw) (2020.12.5)\n",
      "Requirement already satisfied: idna<3,>=2.5 in /Users/gabychu/opt/anaconda3/lib/python3.8/site-packages (from requests->psaw) (2.10)\n",
      "Requirement already satisfied: chardet<5,>=3.0.2 in /Users/gabychu/opt/anaconda3/lib/python3.8/site-packages (from requests->psaw) (4.0.0)\n"
     ]
    }
   ],
   "source": [
    "!pip3 install psaw"
   ]
  },
  {
   "cell_type": "markdown",
   "id": "f0579e06",
   "metadata": {},
   "source": [
    "Import packages: [pandas](https://pandas.pydata.org/pandas-docs/stable/) and [matplotlib](https://matplotlib.org/3.1.1/contents.html)."
   ]
  },
  {
   "cell_type": "code",
   "execution_count": 5,
   "id": "6839164e",
   "metadata": {},
   "outputs": [],
   "source": [
    "import pandas as pd\n",
    "import matplotlib.pyplot as plt"
   ]
  },
  {
   "cell_type": "markdown",
   "id": "b5b0d9de",
   "metadata": {},
   "source": [
    "Import PushshiftAPI to use the API"
   ]
  },
  {
   "cell_type": "code",
   "execution_count": 6,
   "id": "bcc782c0",
   "metadata": {},
   "outputs": [],
   "source": [
    "from psaw import PushshiftAPI"
   ]
  },
  {
   "cell_type": "markdown",
   "id": "7449b44f",
   "metadata": {},
   "source": [
    "Initialize PushShiftAPI"
   ]
  },
  {
   "cell_type": "code",
   "execution_count": 7,
   "id": "be194862",
   "metadata": {},
   "outputs": [],
   "source": [
    "api = PushshiftAPI()"
   ]
  },
  {
   "cell_type": "markdown",
   "id": "3e1d1104",
   "metadata": {},
   "source": [
    "#### PSAW Usage\n",
    "\n",
    "\n",
    "To collect Reddit posts:\n",
    "\n",
    "`api.search_submissions(subreddit=\"subrredit of interest\", score=\">certain upvote score\", q=\"search keyword\", before=date, after=date)`\n",
    "\n",
    "To collect Reddit comments:\n",
    "\n",
    "`api.search_comments(subreddit=\"subrredit of interest\", score=\">certain upvote score\", q=\"search keyword\", before=date, after=date)`\n",
    "\n",
    "#### Collect Reddit submissions for a subreddit (with more than a certain upvote score)\n",
    "\n",
    "Set up generator to make API request"
   ]
  },
  {
   "cell_type": "code",
   "execution_count": 22,
   "id": "8034f53d",
   "metadata": {},
   "outputs": [],
   "source": [
    "api_request_generator = api.search_submissions(subreddit='Cornell')"
   ]
  },
  {
   "cell_type": "markdown",
   "id": "25cbdd85",
   "metadata": {},
   "source": [
    "Grab data for each Reddit submission and make it into a dataframe."
   ]
  },
  {
   "cell_type": "code",
   "execution_count": 23,
   "id": "1c4b963e",
   "metadata": {},
   "outputs": [],
   "source": [
    "cornell_submissions = pd.DataFrame([submission.d_ for submission in api_request_generator])"
   ]
  },
  {
   "cell_type": "markdown",
   "id": "5d9aa816",
   "metadata": {},
   "source": [
    "Check how many Reddit posts have been collected."
   ]
  },
  {
   "cell_type": "code",
   "execution_count": 24,
   "id": "c34214af",
   "metadata": {},
   "outputs": [
    {
     "data": {
      "text/plain": [
       "(51792, 111)"
      ]
     },
     "execution_count": 24,
     "metadata": {},
     "output_type": "execute_result"
    }
   ],
   "source": [
    "cornell_submissions.shape"
   ]
  },
  {
   "cell_type": "markdown",
   "id": "be1910e4",
   "metadata": {},
   "source": [
    "Check what columns/metadata are in the dataframe."
   ]
  },
  {
   "cell_type": "code",
   "execution_count": 25,
   "id": "969f34af",
   "metadata": {},
   "outputs": [
    {
     "data": {
      "text/plain": [
       "Index(['all_awardings', 'allow_live_comments', 'author',\n",
       "       'author_flair_css_class', 'author_flair_richtext', 'author_flair_text',\n",
       "       'author_flair_type', 'author_fullname', 'author_is_blocked',\n",
       "       'author_patreon_flair',\n",
       "       ...\n",
       "       'subreddit_name_prefixed', 'rte_mode', 'author_id', 'brand_safe',\n",
       "       'previous_visits', 'approved_at_utc', 'banned_at_utc', 'view_count',\n",
       "       'mod_reports', 'user_reports'],\n",
       "      dtype='object', length=111)"
      ]
     },
     "execution_count": 25,
     "metadata": {},
     "output_type": "execute_result"
    }
   ],
   "source": [
    "cornell_submissions.columns"
   ]
  },
  {
   "cell_type": "code",
   "execution_count": 26,
   "id": "55be9ba6",
   "metadata": {},
   "outputs": [
    {
     "data": {
      "text/html": [
       "<div>\n",
       "<style scoped>\n",
       "    .dataframe tbody tr th:only-of-type {\n",
       "        vertical-align: middle;\n",
       "    }\n",
       "\n",
       "    .dataframe tbody tr th {\n",
       "        vertical-align: top;\n",
       "    }\n",
       "\n",
       "    .dataframe thead th {\n",
       "        text-align: right;\n",
       "    }\n",
       "</style>\n",
       "<table border=\"1\" class=\"dataframe\">\n",
       "  <thead>\n",
       "    <tr style=\"text-align: right;\">\n",
       "      <th></th>\n",
       "      <th>title</th>\n",
       "      <th>score</th>\n",
       "    </tr>\n",
       "  </thead>\n",
       "  <tbody>\n",
       "    <tr>\n",
       "      <th>37902</th>\n",
       "      <td>Okenshields Mishap</td>\n",
       "      <td>96</td>\n",
       "    </tr>\n",
       "    <tr>\n",
       "      <th>1073</th>\n",
       "      <td>For some reason, I have not gone to Keepton on...</td>\n",
       "      <td>1</td>\n",
       "    </tr>\n",
       "    <tr>\n",
       "      <th>8179</th>\n",
       "      <td>Have the instructors released the decision of ...</td>\n",
       "      <td>1</td>\n",
       "    </tr>\n",
       "    <tr>\n",
       "      <th>33172</th>\n",
       "      <td>‘20</td>\n",
       "      <td>1</td>\n",
       "    </tr>\n",
       "    <tr>\n",
       "      <th>29978</th>\n",
       "      <td>Looking for a dad</td>\n",
       "      <td>1</td>\n",
       "    </tr>\n",
       "    <tr>\n",
       "      <th>40329</th>\n",
       "      <td>ATTENTION: The post below me titled “Cornell E...</td>\n",
       "      <td>61</td>\n",
       "    </tr>\n",
       "    <tr>\n",
       "      <th>13786</th>\n",
       "      <td>CornellFunk No.8: Muddy Uphill Path to ...?</td>\n",
       "      <td>1</td>\n",
       "    </tr>\n",
       "    <tr>\n",
       "      <th>46755</th>\n",
       "      <td>intro to controlled fusion</td>\n",
       "      <td>2</td>\n",
       "    </tr>\n",
       "    <tr>\n",
       "      <th>51228</th>\n",
       "      <td>Incoming transfer here. Anyone care to answer ...</td>\n",
       "      <td>6</td>\n",
       "    </tr>\n",
       "    <tr>\n",
       "      <th>765</th>\n",
       "      <td>ORIE 3510 Stochastic Processes</td>\n",
       "      <td>1</td>\n",
       "    </tr>\n",
       "  </tbody>\n",
       "</table>\n",
       "</div>"
      ],
      "text/plain": [
       "                                                   title  score\n",
       "37902                                 Okenshields Mishap     96\n",
       "1073   For some reason, I have not gone to Keepton on...      1\n",
       "8179   Have the instructors released the decision of ...      1\n",
       "33172                                                ‘20      1\n",
       "29978                                  Looking for a dad      1\n",
       "40329  ATTENTION: The post below me titled “Cornell E...     61\n",
       "13786        CornellFunk No.8: Muddy Uphill Path to ...?      1\n",
       "46755                         intro to controlled fusion      2\n",
       "51228  Incoming transfer here. Anyone care to answer ...      6\n",
       "765                       ORIE 3510 Stochastic Processes      1"
      ]
     },
     "execution_count": 26,
     "metadata": {},
     "output_type": "execute_result"
    }
   ],
   "source": [
    "cornell_submissions[['title', 'score']].sample(10)"
   ]
  },
  {
   "cell_type": "markdown",
   "id": "9bb91a6c",
   "metadata": {},
   "source": [
    "Only select columns of interest and assign to a new dataframe."
   ]
  },
  {
   "cell_type": "code",
   "execution_count": 27,
   "id": "53582980",
   "metadata": {},
   "outputs": [
    {
     "data": {
      "text/html": [
       "<div>\n",
       "<style scoped>\n",
       "    .dataframe tbody tr th:only-of-type {\n",
       "        vertical-align: middle;\n",
       "    }\n",
       "\n",
       "    .dataframe tbody tr th {\n",
       "        vertical-align: top;\n",
       "    }\n",
       "\n",
       "    .dataframe thead th {\n",
       "        text-align: right;\n",
       "    }\n",
       "</style>\n",
       "<table border=\"1\" class=\"dataframe\">\n",
       "  <thead>\n",
       "    <tr style=\"text-align: right;\">\n",
       "      <th></th>\n",
       "      <th>author</th>\n",
       "      <th>title</th>\n",
       "      <th>selftext</th>\n",
       "      <th>url</th>\n",
       "      <th>subreddit</th>\n",
       "      <th>score</th>\n",
       "      <th>num_comments</th>\n",
       "      <th>num_crossposts</th>\n",
       "    </tr>\n",
       "  </thead>\n",
       "  <tbody>\n",
       "    <tr>\n",
       "      <th>0</th>\n",
       "      <td>RebeccaRR9</td>\n",
       "      <td>A prerequisite for ASTRO2211 is intro to calc…...</td>\n",
       "      <td></td>\n",
       "      <td>https://i.redd.it/r03zngt05oy71.jpg</td>\n",
       "      <td>Cornell</td>\n",
       "      <td>1</td>\n",
       "      <td>0</td>\n",
       "      <td>0.0</td>\n",
       "    </tr>\n",
       "    <tr>\n",
       "      <th>1</th>\n",
       "      <td>cornelldesigner</td>\n",
       "      <td>Actually No, Martha, You SUCK at Communicating.</td>\n",
       "      <td>Let me first preface this by saying that even ...</td>\n",
       "      <td>https://www.reddit.com/r/Cornell/comments/qqic...</td>\n",
       "      <td>Cornell</td>\n",
       "      <td>1</td>\n",
       "      <td>0</td>\n",
       "      <td>0.0</td>\n",
       "    </tr>\n",
       "    <tr>\n",
       "      <th>2</th>\n",
       "      <td>afogadurapps</td>\n",
       "      <td>Gamer only!!!</td>\n",
       "      <td>[removed]</td>\n",
       "      <td>https://www.reddit.com/r/Cornell/comments/qqi8...</td>\n",
       "      <td>Cornell</td>\n",
       "      <td>1</td>\n",
       "      <td>0</td>\n",
       "      <td>0.0</td>\n",
       "    </tr>\n",
       "    <tr>\n",
       "      <th>3</th>\n",
       "      <td>why-am-i-at-cornell</td>\n",
       "      <td>anyone notice martha spelled Akwe:kon wrong</td>\n",
       "      <td>another great look</td>\n",
       "      <td>https://www.reddit.com/r/Cornell/comments/qqi5...</td>\n",
       "      <td>Cornell</td>\n",
       "      <td>1</td>\n",
       "      <td>0</td>\n",
       "      <td>0.0</td>\n",
       "    </tr>\n",
       "    <tr>\n",
       "      <th>4</th>\n",
       "      <td>BoBigBed</td>\n",
       "      <td>Where were u wen Campus close?</td>\n",
       "      <td>I was in dorm eating dorito when phone ring\\n\\...</td>\n",
       "      <td>https://www.reddit.com/r/Cornell/comments/qqi0...</td>\n",
       "      <td>Cornell</td>\n",
       "      <td>1</td>\n",
       "      <td>0</td>\n",
       "      <td>0.0</td>\n",
       "    </tr>\n",
       "    <tr>\n",
       "      <th>...</th>\n",
       "      <td>...</td>\n",
       "      <td>...</td>\n",
       "      <td>...</td>\n",
       "      <td>...</td>\n",
       "      <td>...</td>\n",
       "      <td>...</td>\n",
       "      <td>...</td>\n",
       "      <td>...</td>\n",
       "    </tr>\n",
       "    <tr>\n",
       "      <th>51787</th>\n",
       "      <td>ali0</td>\n",
       "      <td>And just like that the number of subscribers r...</td>\n",
       "      <td></td>\n",
       "      <td>https://www.reddit.com/r/Cornell/comments/9vrd...</td>\n",
       "      <td>Cornell</td>\n",
       "      <td>2</td>\n",
       "      <td>0</td>\n",
       "      <td>0.0</td>\n",
       "    </tr>\n",
       "    <tr>\n",
       "      <th>51788</th>\n",
       "      <td>[deleted]</td>\n",
       "      <td>anything new and cool going on in Ithaca?</td>\n",
       "      <td>[deleted]</td>\n",
       "      <td>https://www.reddit.com/r/Cornell/comments/8vzk...</td>\n",
       "      <td>Cornell</td>\n",
       "      <td>1</td>\n",
       "      <td>0</td>\n",
       "      <td>0.0</td>\n",
       "    </tr>\n",
       "    <tr>\n",
       "      <th>51789</th>\n",
       "      <td>ImMakingToast</td>\n",
       "      <td>CIT loses 45000 student, staff, and alumni nam...</td>\n",
       "      <td></td>\n",
       "      <td>http://faq-june2009.cuinfo.cornell.edu/</td>\n",
       "      <td>Cornell</td>\n",
       "      <td>3</td>\n",
       "      <td>2</td>\n",
       "      <td>0.0</td>\n",
       "    </tr>\n",
       "    <tr>\n",
       "      <th>51790</th>\n",
       "      <td>[deleted]</td>\n",
       "      <td>anything new and cool going on in Ithaca?</td>\n",
       "      <td>[deleted]</td>\n",
       "      <td>https://www.reddit.com/r/Cornell/comments/8ugt...</td>\n",
       "      <td>Cornell</td>\n",
       "      <td>1</td>\n",
       "      <td>0</td>\n",
       "      <td>0.0</td>\n",
       "    </tr>\n",
       "    <tr>\n",
       "      <th>51791</th>\n",
       "      <td>[deleted]</td>\n",
       "      <td>I can't wait 'til winter sets in...</td>\n",
       "      <td>[deleted]</td>\n",
       "      <td>https://www.reddit.com/r/Cornell/comments/8ugr...</td>\n",
       "      <td>Cornell</td>\n",
       "      <td>1</td>\n",
       "      <td>0</td>\n",
       "      <td>0.0</td>\n",
       "    </tr>\n",
       "  </tbody>\n",
       "</table>\n",
       "<p>51792 rows × 8 columns</p>\n",
       "</div>"
      ],
      "text/plain": [
       "                    author                                              title  \\\n",
       "0               RebeccaRR9  A prerequisite for ASTRO2211 is intro to calc…...   \n",
       "1          cornelldesigner    Actually No, Martha, You SUCK at Communicating.   \n",
       "2             afogadurapps                                      Gamer only!!!   \n",
       "3      why-am-i-at-cornell        anyone notice martha spelled Akwe:kon wrong   \n",
       "4                 BoBigBed                     Where were u wen Campus close?   \n",
       "...                    ...                                                ...   \n",
       "51787                 ali0  And just like that the number of subscribers r...   \n",
       "51788            [deleted]          anything new and cool going on in Ithaca?   \n",
       "51789        ImMakingToast  CIT loses 45000 student, staff, and alumni nam...   \n",
       "51790            [deleted]          anything new and cool going on in Ithaca?   \n",
       "51791            [deleted]                I can't wait 'til winter sets in...   \n",
       "\n",
       "                                                selftext  \\\n",
       "0                                                          \n",
       "1      Let me first preface this by saying that even ...   \n",
       "2                                              [removed]   \n",
       "3                                     another great look   \n",
       "4      I was in dorm eating dorito when phone ring\\n\\...   \n",
       "...                                                  ...   \n",
       "51787                                                      \n",
       "51788                                          [deleted]   \n",
       "51789                                                      \n",
       "51790                                          [deleted]   \n",
       "51791                                          [deleted]   \n",
       "\n",
       "                                                     url subreddit  score  \\\n",
       "0                    https://i.redd.it/r03zngt05oy71.jpg   Cornell      1   \n",
       "1      https://www.reddit.com/r/Cornell/comments/qqic...   Cornell      1   \n",
       "2      https://www.reddit.com/r/Cornell/comments/qqi8...   Cornell      1   \n",
       "3      https://www.reddit.com/r/Cornell/comments/qqi5...   Cornell      1   \n",
       "4      https://www.reddit.com/r/Cornell/comments/qqi0...   Cornell      1   \n",
       "...                                                  ...       ...    ...   \n",
       "51787  https://www.reddit.com/r/Cornell/comments/9vrd...   Cornell      2   \n",
       "51788  https://www.reddit.com/r/Cornell/comments/8vzk...   Cornell      1   \n",
       "51789            http://faq-june2009.cuinfo.cornell.edu/   Cornell      3   \n",
       "51790  https://www.reddit.com/r/Cornell/comments/8ugt...   Cornell      1   \n",
       "51791  https://www.reddit.com/r/Cornell/comments/8ugr...   Cornell      1   \n",
       "\n",
       "       num_comments  num_crossposts  \n",
       "0                 0             0.0  \n",
       "1                 0             0.0  \n",
       "2                 0             0.0  \n",
       "3                 0             0.0  \n",
       "4                 0             0.0  \n",
       "...             ...             ...  \n",
       "51787             0             0.0  \n",
       "51788             0             0.0  \n",
       "51789             2             0.0  \n",
       "51790             0             0.0  \n",
       "51791             0             0.0  \n",
       "\n",
       "[51792 rows x 8 columns]"
      ]
     },
     "execution_count": 27,
     "metadata": {},
     "output_type": "execute_result"
    }
   ],
   "source": [
    "cornell_final = cornell_submissions[['author', 'title', 'selftext', 'url', 'subreddit', 'score', 'num_comments', 'num_crossposts']]\n",
    "\n",
    "cornell_final"
   ]
  },
  {
   "cell_type": "markdown",
   "id": "edb4928e",
   "metadata": {},
   "source": [
    "Now, we can export our finalized cleaned dataframe into a csv file."
   ]
  },
  {
   "cell_type": "code",
   "execution_count": 34,
   "id": "ee11f839",
   "metadata": {},
   "outputs": [],
   "source": [
    "cornell_final.to_csv(\"cornell_final.csv\", encoding='utf-8', index=False)"
   ]
  },
  {
   "cell_type": "markdown",
   "id": "96ea9892",
   "metadata": {},
   "source": [
    "## Collect Reddit submissions based on search keyword (with more than a certain upvote score)\n",
    "\n",
    "Set up generator to make API request"
   ]
  },
  {
   "cell_type": "code",
   "execution_count": 29,
   "id": "9288480c",
   "metadata": {},
   "outputs": [],
   "source": [
    "api_request_generator = api.search_submissions(q='Cornell', score = \">2000\")"
   ]
  },
  {
   "cell_type": "markdown",
   "id": "071e89d2",
   "metadata": {},
   "source": [
    "Grab data for each Reddit submission and make into a DataFrame"
   ]
  },
  {
   "cell_type": "code",
   "execution_count": 30,
   "id": "d346c434",
   "metadata": {},
   "outputs": [
    {
     "name": "stderr",
     "output_type": "stream",
     "text": [
      "/Users/gabychu/opt/anaconda3/lib/python3.8/site-packages/psaw/PushshiftAPI.py:252: UserWarning: Not all PushShift shards are active. Query results may be incomplete\n",
      "  warnings.warn(shards_down_message)\n"
     ]
    },
    {
     "data": {
      "text/plain": [
       "(93, 87)"
      ]
     },
     "execution_count": 30,
     "metadata": {},
     "output_type": "execute_result"
    }
   ],
   "source": [
    "cornell_submissions = pd.DataFrame([submission.d_ for submission in api_request_generator])\n",
    "cornell_submissions.shape"
   ]
  },
  {
   "cell_type": "code",
   "execution_count": 31,
   "id": "6115ccf9",
   "metadata": {},
   "outputs": [
    {
     "data": {
      "text/html": [
       "<div>\n",
       "<style scoped>\n",
       "    .dataframe tbody tr th:only-of-type {\n",
       "        vertical-align: middle;\n",
       "    }\n",
       "\n",
       "    .dataframe tbody tr th {\n",
       "        vertical-align: top;\n",
       "    }\n",
       "\n",
       "    .dataframe thead th {\n",
       "        text-align: right;\n",
       "    }\n",
       "</style>\n",
       "<table border=\"1\" class=\"dataframe\">\n",
       "  <thead>\n",
       "    <tr style=\"text-align: right;\">\n",
       "      <th></th>\n",
       "      <th>author</th>\n",
       "      <th>title</th>\n",
       "      <th>selftext</th>\n",
       "      <th>url</th>\n",
       "      <th>subreddit</th>\n",
       "      <th>score</th>\n",
       "      <th>num_comments</th>\n",
       "      <th>num_crossposts</th>\n",
       "    </tr>\n",
       "  </thead>\n",
       "  <tbody>\n",
       "    <tr>\n",
       "      <th>0</th>\n",
       "      <td>ccwarrenator</td>\n",
       "      <td>My Grandpa fought in WW2, was a chemistry prof...</td>\n",
       "      <td></td>\n",
       "      <td>https://i.redd.it/7ynkr3hyeze61.jpg</td>\n",
       "      <td>OldSchoolCool</td>\n",
       "      <td>11639</td>\n",
       "      <td>270</td>\n",
       "      <td>1.0</td>\n",
       "    </tr>\n",
       "    <tr>\n",
       "      <th>1</th>\n",
       "      <td>the_light_of_dawn</td>\n",
       "      <td>Reggie's Lecture At Cornell: Reggie Calls Wii ...</td>\n",
       "      <td></td>\n",
       "      <td>https://www.resetera.com/threads/reggies-lectu...</td>\n",
       "      <td>NintendoSwitch</td>\n",
       "      <td>3410</td>\n",
       "      <td>363</td>\n",
       "      <td>0.0</td>\n",
       "    </tr>\n",
       "    <tr>\n",
       "      <th>2</th>\n",
       "      <td>evaee00</td>\n",
       "      <td>Can you please not apply to Cornell? My son wa...</td>\n",
       "      <td>So this is a story that happened to my friend ...</td>\n",
       "      <td>https://www.reddit.com/r/entitledparents/comme...</td>\n",
       "      <td>entitledparents</td>\n",
       "      <td>11375</td>\n",
       "      <td>241</td>\n",
       "      <td>0.0</td>\n",
       "    </tr>\n",
       "    <tr>\n",
       "      <th>3</th>\n",
       "      <td>BoomWhatWhat</td>\n",
       "      <td>Cornell will eliminate medical school debt for...</td>\n",
       "      <td></td>\n",
       "      <td>https://www.cnn.com/2019/09/17/us/cornell-scho...</td>\n",
       "      <td>news</td>\n",
       "      <td>44406</td>\n",
       "      <td>2220</td>\n",
       "      <td>0.0</td>\n",
       "    </tr>\n",
       "    <tr>\n",
       "      <th>4</th>\n",
       "      <td>SirCSquared</td>\n",
       "      <td>I took this photo at the last Soundgarden conc...</td>\n",
       "      <td></td>\n",
       "      <td>https://i.redd.it/op394mbhgkd31.jpg</td>\n",
       "      <td>lastimages</td>\n",
       "      <td>4759</td>\n",
       "      <td>185</td>\n",
       "      <td>0.0</td>\n",
       "    </tr>\n",
       "    <tr>\n",
       "      <th>...</th>\n",
       "      <td>...</td>\n",
       "      <td>...</td>\n",
       "      <td>...</td>\n",
       "      <td>...</td>\n",
       "      <td>...</td>\n",
       "      <td>...</td>\n",
       "      <td>...</td>\n",
       "      <td>...</td>\n",
       "    </tr>\n",
       "    <tr>\n",
       "      <th>88</th>\n",
       "      <td>SXS_Blackholes</td>\n",
       "      <td>Science AMA Series: We are graduate students a...</td>\n",
       "      <td>We work in the field of numerical relativity, ...</td>\n",
       "      <td>http://www.reddit.com/r/science/comments/2l259...</td>\n",
       "      <td>science</td>\n",
       "      <td>3272</td>\n",
       "      <td>883</td>\n",
       "      <td>NaN</td>\n",
       "    </tr>\n",
       "    <tr>\n",
       "      <th>89</th>\n",
       "      <td>mubukugrappa</td>\n",
       "      <td>The larger your friends, the larger your appet...</td>\n",
       "      <td></td>\n",
       "      <td>http://foodpsychology.cornell.edu/op/the_fat_s...</td>\n",
       "      <td>science</td>\n",
       "      <td>3456</td>\n",
       "      <td>560</td>\n",
       "      <td>NaN</td>\n",
       "    </tr>\n",
       "    <tr>\n",
       "      <th>90</th>\n",
       "      <td>wpiman</td>\n",
       "      <td>My buddy is a third generation Cornell grad. H...</td>\n",
       "      <td></td>\n",
       "      <td>http://www.livememe.com/d2k1qn5</td>\n",
       "      <td>AdviceAnimals</td>\n",
       "      <td>3085</td>\n",
       "      <td>883</td>\n",
       "      <td>NaN</td>\n",
       "    </tr>\n",
       "    <tr>\n",
       "      <th>91</th>\n",
       "      <td>A_Ninjas_Fart</td>\n",
       "      <td>Scientists at Cornell develop technique that k...</td>\n",
       "      <td></td>\n",
       "      <td>http://www.voanews.com/content/scientists-deve...</td>\n",
       "      <td>science</td>\n",
       "      <td>2821</td>\n",
       "      <td>319</td>\n",
       "      <td>NaN</td>\n",
       "    </tr>\n",
       "    <tr>\n",
       "      <th>92</th>\n",
       "      <td>frogmentation</td>\n",
       "      <td>Cornell study discovers parrots name their chicks</td>\n",
       "      <td></td>\n",
       "      <td>http://www.news.cornell.edu/stories/July11/Par...</td>\n",
       "      <td>science</td>\n",
       "      <td>2221</td>\n",
       "      <td>177</td>\n",
       "      <td>NaN</td>\n",
       "    </tr>\n",
       "  </tbody>\n",
       "</table>\n",
       "<p>93 rows × 8 columns</p>\n",
       "</div>"
      ],
      "text/plain": [
       "               author                                              title  \\\n",
       "0        ccwarrenator  My Grandpa fought in WW2, was a chemistry prof...   \n",
       "1   the_light_of_dawn  Reggie's Lecture At Cornell: Reggie Calls Wii ...   \n",
       "2             evaee00  Can you please not apply to Cornell? My son wa...   \n",
       "3        BoomWhatWhat  Cornell will eliminate medical school debt for...   \n",
       "4         SirCSquared  I took this photo at the last Soundgarden conc...   \n",
       "..                ...                                                ...   \n",
       "88     SXS_Blackholes  Science AMA Series: We are graduate students a...   \n",
       "89       mubukugrappa  The larger your friends, the larger your appet...   \n",
       "90             wpiman  My buddy is a third generation Cornell grad. H...   \n",
       "91      A_Ninjas_Fart  Scientists at Cornell develop technique that k...   \n",
       "92      frogmentation  Cornell study discovers parrots name their chicks   \n",
       "\n",
       "                                             selftext  \\\n",
       "0                                                       \n",
       "1                                                       \n",
       "2   So this is a story that happened to my friend ...   \n",
       "3                                                       \n",
       "4                                                       \n",
       "..                                                ...   \n",
       "88  We work in the field of numerical relativity, ...   \n",
       "89                                                      \n",
       "90                                                      \n",
       "91                                                      \n",
       "92                                                      \n",
       "\n",
       "                                                  url        subreddit  score  \\\n",
       "0                 https://i.redd.it/7ynkr3hyeze61.jpg    OldSchoolCool  11639   \n",
       "1   https://www.resetera.com/threads/reggies-lectu...   NintendoSwitch   3410   \n",
       "2   https://www.reddit.com/r/entitledparents/comme...  entitledparents  11375   \n",
       "3   https://www.cnn.com/2019/09/17/us/cornell-scho...             news  44406   \n",
       "4                 https://i.redd.it/op394mbhgkd31.jpg       lastimages   4759   \n",
       "..                                                ...              ...    ...   \n",
       "88  http://www.reddit.com/r/science/comments/2l259...          science   3272   \n",
       "89  http://foodpsychology.cornell.edu/op/the_fat_s...          science   3456   \n",
       "90                    http://www.livememe.com/d2k1qn5    AdviceAnimals   3085   \n",
       "91  http://www.voanews.com/content/scientists-deve...          science   2821   \n",
       "92  http://www.news.cornell.edu/stories/July11/Par...          science   2221   \n",
       "\n",
       "    num_comments  num_crossposts  \n",
       "0            270             1.0  \n",
       "1            363             0.0  \n",
       "2            241             0.0  \n",
       "3           2220             0.0  \n",
       "4            185             0.0  \n",
       "..           ...             ...  \n",
       "88           883             NaN  \n",
       "89           560             NaN  \n",
       "90           883             NaN  \n",
       "91           319             NaN  \n",
       "92           177             NaN  \n",
       "\n",
       "[93 rows x 8 columns]"
      ]
     },
     "execution_count": 31,
     "metadata": {},
     "output_type": "execute_result"
    }
   ],
   "source": [
    "cornell_submissions[['author', 'title', 'selftext', 'url', 'subreddit', 'score', 'num_comments', 'num_crossposts']]"
   ]
  },
  {
   "cell_type": "markdown",
   "id": "09d80846",
   "metadata": {},
   "source": [
    "Where are the popular \"Cornell\" Reddit posts appearing?"
   ]
  },
  {
   "cell_type": "code",
   "execution_count": 32,
   "id": "ecccc1fc",
   "metadata": {},
   "outputs": [
    {
     "data": {
      "text/plain": [
       "science                 17\n",
       "IAmA                     7\n",
       "The_Donald               7\n",
       "todayilearned            6\n",
       "Music                    4\n",
       "news                     3\n",
       "OldSchoolCool            3\n",
       "videos                   3\n",
       "SandersForPresident      3\n",
       "askscience               3\n",
       "politics                 2\n",
       "Showerthoughts           2\n",
       "lastimages               2\n",
       "InternetIsBeautiful      2\n",
       "movies                   2\n",
       "uncensorednews           1\n",
       "NintendoSwitch           1\n",
       "KotakuInAction           1\n",
       "AdviceAnimals            1\n",
       "interestingasfuck        1\n",
       "bidenbro                 1\n",
       "Metal                    1\n",
       "AmItheAsshole            1\n",
       "entitledparents          1\n",
       "pics                     1\n",
       "tattoos                  1\n",
       "relationships            1\n",
       "CFB                      1\n",
       "AskHistorians            1\n",
       "lego                     1\n",
       "Damnthatsinteresting     1\n",
       "unpopularopinion         1\n",
       "coolguides               1\n",
       "RetroFuturism            1\n",
       "LadyBoners               1\n",
       "SeattleWA                1\n",
       "offmychest               1\n",
       "DunderMifflin            1\n",
       "westworld                1\n",
       "EarthPorn                1\n",
       "Awwducational            1\n",
       "Guitar                   1\n",
       "Name: subreddit, dtype: int64"
      ]
     },
     "execution_count": 32,
     "metadata": {},
     "output_type": "execute_result"
    }
   ],
   "source": [
    "cornell_submissions['subreddit'].value_counts()"
   ]
  },
  {
   "cell_type": "code",
   "execution_count": 33,
   "id": "35c2e8dc",
   "metadata": {},
   "outputs": [
    {
     "data": {
      "image/png": "[encoded data removed]",
      "text/plain": [
       "<Figure size 432x288 with 1 Axes>"
      ]
     },
     "metadata": {
      "needs_background": "light"
     },
     "output_type": "display_data"
    }
   ],
   "source": [
    "cornell_submissions['subreddit'].value_counts()[:10].plot(kind='bar')\n",
    "plt.show()"
   ]
  },
  {
   "cell_type": "markdown",
   "id": "c7b297a3",
   "metadata": {},
   "source": [
    "# Resources\n",
    "- [Reddit Pushshift](https://github.com/pushshift/api)\n",
    "    - [Reddit Pushshift arXiv paper PDF](https://arxiv.org/pdf/2001.08435.pdf)\n",
    "- [Reddit Pushshift Python Wrapper — PSAW](https://github.com/dmarx/psaw)\n",
    "- [Twwitter API Python Wrapper — Twarc](https://github.com/DocNow/twarc)\n",
    "- [Twitter API documentation](https://developer.twitter.com/en/docs/twitter-api/getting-started/guide)\n",
    "# Recommended Reading: Social Media Data Ethics\n",
    "- [Doc Now White Paper](https://www.docnow.io/docs/docnow-whitepaper-2018.pdf), Bergis Jules, Ed Summers, Dr. Vernon Mitchell, Jr.\n",
    "- [No Robots, Spiders, or Scrapers: Legal and Ethical Regulation of Data Collection Methods in Social Media Terms of Service](https://cmci.colorado.edu/~cafi5706/ICWSM2020_datascraping.pdf), Casey Fiesler, Nathan Beard, Brian C. Keegan\n",
    "- [#transform(ing)DH Writing and Research: An Autoethnography of Digital Humanities and Feminist Ethics](http://www.digitalhumanities.org/dhq/vol/9/2/000209/000209.html), Moya Bailey\n",
    "- [The #TwitterEthics Manifesto](https://modelviewculture.com/pieces/the-twitterethics-manifesto), Dorothy Kim and Eunsong Kim"
   ]
  }
 ],
 "metadata": {
  "kernelspec": {
   "display_name": "Python 3",
   "language": "python",
   "name": "python3"
  },
  "language_info": {
   "codemirror_mode": {
    "name": "ipython",
    "version": 3
   },
   "file_extension": ".py",
   "mimetype": "text/x-python",
   "name": "python",
   "nbconvert_exporter": "python",
   "pygments_lexer": "ipython3",
   "version": "3.8.8"
  }
 },
 "nbformat": 4,
 "nbformat_minor": 5
}
