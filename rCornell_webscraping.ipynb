{
 "cells": [
  {
   "cell_type": "markdown",
   "id": "26597e8d",
   "metadata": {},
   "source": [
    "# r/Cornell Webscraping \n",
    "\n",
    "**Code adapted from webscrapping workshop**\n",
    "\n",
    "\n",
    "####  Web Scraping Reddit\n",
    "\n",
    "Though Reddit has its own API, there is a more popular API for working with Reddit called **Pushshift**. You can read more about Pushshift in this [arXiv article](https://arxiv.org/abs/2001.08435). (PDF)\n",
    "\n",
    "> Why do people use Pushshift’s API instead of the official Reddit API?\n",
    ">\n",
    ">In short, Pushshift makes it much easier for researchers to query and retrieve historical Reddit data, provides extended functionality by providing fulltext search against comments and submissions, and has larger single query limits.\n",
    ">\n",
    ">Jason Baumgartner, et al., \"The Pushshift Reddit Dataset\"\n",
    "\n",
    "#### Install PSAW\n",
    "\n",
    "To work with the Pushshift API, we're going to install and use a Python wrapper called [PSAW](https://github.com/dmarx/psaw)."
   ]
  },
  {
   "cell_type": "code",
   "execution_count": 1,
   "id": "981ba53b",
   "metadata": {},
   "outputs": [
    {
     "name": "stdout",
     "output_type": "stream",
     "text": [
      "Requirement already satisfied: psaw in /Users/gabychu/opt/anaconda3/lib/python3.9/site-packages (0.1.0)\n",
      "Requirement already satisfied: Click in /Users/gabychu/opt/anaconda3/lib/python3.9/site-packages (from psaw) (8.0.3)\n",
      "Requirement already satisfied: requests in /Users/gabychu/opt/anaconda3/lib/python3.9/site-packages (from psaw) (2.26.0)\n",
      "Requirement already satisfied: urllib3<1.27,>=1.21.1 in /Users/gabychu/opt/anaconda3/lib/python3.9/site-packages (from requests->psaw) (1.26.7)\n",
      "Requirement already satisfied: certifi>=2017.4.17 in /Users/gabychu/opt/anaconda3/lib/python3.9/site-packages (from requests->psaw) (2021.10.8)\n",
      "Requirement already satisfied: idna<4,>=2.5 in /Users/gabychu/opt/anaconda3/lib/python3.9/site-packages (from requests->psaw) (3.2)\n",
      "Requirement already satisfied: charset-normalizer~=2.0.0 in /Users/gabychu/opt/anaconda3/lib/python3.9/site-packages (from requests->psaw) (2.0.4)\n"
     ]
    }
   ],
   "source": [
    "!pip3 install psaw"
   ]
  },
  {
   "cell_type": "markdown",
   "id": "f0579e06",
   "metadata": {},
   "source": [
    "Import packages: [pandas](https://pandas.pydata.org/pandas-docs/stable/) and [matplotlib](https://matplotlib.org/3.1.1/contents.html)."
   ]
  },
  {
   "cell_type": "code",
   "execution_count": 4,
   "id": "6839164e",
   "metadata": {},
   "outputs": [],
   "source": [
    "import pandas as pd\n",
    "import matplotlib.pyplot as plt"
   ]
  },
  {
   "cell_type": "markdown",
   "id": "b5b0d9de",
   "metadata": {},
   "source": [
    "Import PushshiftAPI to use the API"
   ]
  },
  {
   "cell_type": "code",
   "execution_count": 5,
   "id": "bcc782c0",
   "metadata": {},
   "outputs": [],
   "source": [
    "from psaw import PushshiftAPI"
   ]
  },
  {
   "cell_type": "markdown",
   "id": "7449b44f",
   "metadata": {},
   "source": [
    "Initialize PushShiftAPI"
   ]
  },
  {
   "cell_type": "code",
   "execution_count": 6,
   "id": "be194862",
   "metadata": {},
   "outputs": [],
   "source": [
    "api = PushshiftAPI()"
   ]
  },
  {
   "cell_type": "markdown",
   "id": "3e1d1104",
   "metadata": {},
   "source": [
    "#### PSAW Usage\n",
    "\n",
    "\n",
    "To collect Reddit posts:\n",
    "\n",
    "`api.search_submissions(subreddit=\"subrredit of interest\", score=\">certain upvote score\", q=\"search keyword\", before=date, after=date)`\n",
    "\n",
    "To collect Reddit comments:\n",
    "\n",
    "`api.search_comments(subreddit=\"subrredit of interest\", score=\">certain upvote score\", q=\"search keyword\", before=date, after=date)`\n",
    "\n",
    "#### Collect Reddit submissions for a subreddit (with more than a certain upvote score)\n",
    "\n",
    "Set up generator to make API request"
   ]
  },
  {
   "cell_type": "code",
   "execution_count": 7,
   "id": "8034f53d",
   "metadata": {
    "scrolled": true
   },
   "outputs": [],
   "source": [
    "import datetime as dt\n",
    "start = int(dt.datetime(2019,3,1,0,0,0).timestamp())\n",
    "end = int(dt.datetime(2022,3,1,0,0,0).timestamp())"
   ]
  },
  {
   "cell_type": "markdown",
   "id": "25cbdd85",
   "metadata": {},
   "source": [
    "Grab data for each Reddit submission and make it into a dataframe."
   ]
  },
  {
   "cell_type": "code",
   "execution_count": 8,
   "id": "ba69fa10",
   "metadata": {},
   "outputs": [],
   "source": [
    "api_request_generator = api.search_submissions(subreddit='Cornell', after=start, before=end)"
   ]
  },
  {
   "cell_type": "code",
   "execution_count": 9,
   "id": "1c4b963e",
   "metadata": {},
   "outputs": [
    {
     "name": "stderr",
     "output_type": "stream",
     "text": [
      "/Users/gabychu/opt/anaconda3/lib/python3.9/site-packages/psaw/PushshiftAPI.py:252: UserWarning: Not all PushShift shards are active. Query results may be incomplete\n",
      "  warnings.warn(shards_down_message)\n",
      "/Users/gabychu/opt/anaconda3/lib/python3.9/site-packages/psaw/PushshiftAPI.py:192: UserWarning: Got non 200 code 429\n",
      "  warnings.warn(\"Got non 200 code %s\" % response.status_code)\n",
      "/Users/gabychu/opt/anaconda3/lib/python3.9/site-packages/psaw/PushshiftAPI.py:180: UserWarning: Unable to connect to pushshift.io. Retrying after backoff.\n",
      "  warnings.warn(\"Unable to connect to pushshift.io. Retrying after backoff.\")\n"
     ]
    }
   ],
   "source": [
    "cornell_submissions = pd.DataFrame([submission.d_ for submission in api_request_generator])"
   ]
  },
  {
   "cell_type": "markdown",
   "id": "5d9aa816",
   "metadata": {},
   "source": [
    "Check how many Reddit posts have been collected."
   ]
  },
  {
   "cell_type": "code",
   "execution_count": 10,
   "id": "c34214af",
   "metadata": {},
   "outputs": [
    {
     "data": {
      "text/plain": [
       "(49851, 90)"
      ]
     },
     "execution_count": 10,
     "metadata": {},
     "output_type": "execute_result"
    }
   ],
   "source": [
    "cornell_submissions.shape"
   ]
  },
  {
   "cell_type": "markdown",
   "id": "be1910e4",
   "metadata": {},
   "source": [
    "Check what columns/metadata are in the dataframe."
   ]
  },
  {
   "cell_type": "code",
   "execution_count": 11,
   "id": "969f34af",
   "metadata": {},
   "outputs": [
    {
     "data": {
      "text/plain": [
       "Index(['all_awardings', 'allow_live_comments', 'author',\n",
       "       'author_flair_css_class', 'author_flair_richtext',\n",
       "       'author_flair_template_id', 'author_flair_text',\n",
       "       'author_flair_text_color', 'author_flair_type', 'author_fullname',\n",
       "       'author_is_blocked', 'author_patreon_flair', 'author_premium',\n",
       "       'awarders', 'can_mod_post', 'contest_mode', 'created_utc', 'domain',\n",
       "       'full_link', 'gildings', 'id', 'is_created_from_ads_ui',\n",
       "       'is_crosspostable', 'is_meta', 'is_original_content',\n",
       "       'is_reddit_media_domain', 'is_robot_indexable', 'is_self', 'is_video',\n",
       "       'link_flair_background_color', 'link_flair_richtext',\n",
       "       'link_flair_text_color', 'link_flair_type', 'locked', 'media_only',\n",
       "       'no_follow', 'num_comments', 'num_crossposts', 'over_18',\n",
       "       'parent_whitelist_status', 'permalink', 'pinned', 'pwls',\n",
       "       'retrieved_on', 'score', 'selftext', 'send_replies', 'spoiler',\n",
       "       'stickied', 'subreddit', 'subreddit_id', 'subreddit_subscribers',\n",
       "       'subreddit_type', 'thumbnail', 'title', 'total_awards_received',\n",
       "       'treatment_tags', 'upvote_ratio', 'url', 'whitelist_status', 'wls',\n",
       "       'created', 'gallery_data', 'is_gallery', 'media_metadata',\n",
       "       'thumbnail_height', 'thumbnail_width', 'url_overridden_by_dest',\n",
       "       'author_flair_background_color', 'post_hint', 'preview', 'poll_data',\n",
       "       'removed_by_category', 'crosspost_parent', 'crosspost_parent_list',\n",
       "       'media', 'media_embed', 'secure_media', 'secure_media_embed',\n",
       "       'author_cakeday', 'banned_by', 'distinguished', 'edited', 'gilded',\n",
       "       'suggested_sort', 'steward_reports', 'removed_by', 'updated_utc',\n",
       "       'og_description', 'og_title'],\n",
       "      dtype='object')"
      ]
     },
     "execution_count": 11,
     "metadata": {},
     "output_type": "execute_result"
    }
   ],
   "source": [
    "cornell_submissions.columns"
   ]
  },
  {
   "cell_type": "code",
   "execution_count": 12,
   "id": "55be9ba6",
   "metadata": {
    "scrolled": true
   },
   "outputs": [
    {
     "data": {
      "text/html": [
       "<div>\n",
       "<style scoped>\n",
       "    .dataframe tbody tr th:only-of-type {\n",
       "        vertical-align: middle;\n",
       "    }\n",
       "\n",
       "    .dataframe tbody tr th {\n",
       "        vertical-align: top;\n",
       "    }\n",
       "\n",
       "    .dataframe thead th {\n",
       "        text-align: right;\n",
       "    }\n",
       "</style>\n",
       "<table border=\"1\" class=\"dataframe\">\n",
       "  <thead>\n",
       "    <tr style=\"text-align: right;\">\n",
       "      <th></th>\n",
       "      <th>title</th>\n",
       "      <th>score</th>\n",
       "    </tr>\n",
       "  </thead>\n",
       "  <tbody>\n",
       "    <tr>\n",
       "      <th>15018</th>\n",
       "      <td>My shot at making new friends</td>\n",
       "      <td>1</td>\n",
       "    </tr>\n",
       "    <tr>\n",
       "      <th>36963</th>\n",
       "      <td>Approved mini fridges?</td>\n",
       "      <td>1</td>\n",
       "    </tr>\n",
       "    <tr>\n",
       "      <th>979</th>\n",
       "      <td>Is it fair/allowed for a proffesor to offer li...</td>\n",
       "      <td>1</td>\n",
       "    </tr>\n",
       "    <tr>\n",
       "      <th>23040</th>\n",
       "      <td>Difference of a minor and concentration?</td>\n",
       "      <td>1</td>\n",
       "    </tr>\n",
       "    <tr>\n",
       "      <th>829</th>\n",
       "      <td>Is there like a badminton club or similar? I’m...</td>\n",
       "      <td>1</td>\n",
       "    </tr>\n",
       "    <tr>\n",
       "      <th>23284</th>\n",
       "      <td>Academic Standing in CALS</td>\n",
       "      <td>1</td>\n",
       "    </tr>\n",
       "    <tr>\n",
       "      <th>22520</th>\n",
       "      <td>I’m Kan, the Louis Vuitton Don,</td>\n",
       "      <td>1</td>\n",
       "    </tr>\n",
       "    <tr>\n",
       "      <th>39573</th>\n",
       "      <td>feeling heavy</td>\n",
       "      <td>1</td>\n",
       "    </tr>\n",
       "    <tr>\n",
       "      <th>25268</th>\n",
       "      <td>Where to order a cake from for Valentines day?</td>\n",
       "      <td>1</td>\n",
       "    </tr>\n",
       "    <tr>\n",
       "      <th>24059</th>\n",
       "      <td>I got ya homie!</td>\n",
       "      <td>1</td>\n",
       "    </tr>\n",
       "  </tbody>\n",
       "</table>\n",
       "</div>"
      ],
      "text/plain": [
       "                                                   title  score\n",
       "15018                      My shot at making new friends      1\n",
       "36963                             Approved mini fridges?      1\n",
       "979    Is it fair/allowed for a proffesor to offer li...      1\n",
       "23040           Difference of a minor and concentration?      1\n",
       "829    Is there like a badminton club or similar? I’m...      1\n",
       "23284                          Academic Standing in CALS      1\n",
       "22520                    I’m Kan, the Louis Vuitton Don,      1\n",
       "39573                                      feeling heavy      1\n",
       "25268     Where to order a cake from for Valentines day?      1\n",
       "24059                                    I got ya homie!      1"
      ]
     },
     "execution_count": 12,
     "metadata": {},
     "output_type": "execute_result"
    }
   ],
   "source": [
    "cornell_submissions[['title', 'score']].sample(10)"
   ]
  },
  {
   "cell_type": "markdown",
   "id": "9bb91a6c",
   "metadata": {},
   "source": [
    "Only select columns of interest and assign it to the dataframe"
   ]
  },
  {
   "cell_type": "code",
   "execution_count": 13,
   "id": "53582980",
   "metadata": {
    "scrolled": true
   },
   "outputs": [
    {
     "data": {
      "text/html": [
       "<div>\n",
       "<style scoped>\n",
       "    .dataframe tbody tr th:only-of-type {\n",
       "        vertical-align: middle;\n",
       "    }\n",
       "\n",
       "    .dataframe tbody tr th {\n",
       "        vertical-align: top;\n",
       "    }\n",
       "\n",
       "    .dataframe thead th {\n",
       "        text-align: right;\n",
       "    }\n",
       "</style>\n",
       "<table border=\"1\" class=\"dataframe\">\n",
       "  <thead>\n",
       "    <tr style=\"text-align: right;\">\n",
       "      <th></th>\n",
       "      <th>author</th>\n",
       "      <th>title</th>\n",
       "      <th>selftext</th>\n",
       "      <th>created_utc</th>\n",
       "      <th>created</th>\n",
       "      <th>score</th>\n",
       "      <th>num_comments</th>\n",
       "      <th>num_crossposts</th>\n",
       "    </tr>\n",
       "  </thead>\n",
       "  <tbody>\n",
       "    <tr>\n",
       "      <th>0</th>\n",
       "      <td>emzow</td>\n",
       "      <td>Good places to Slavic squat on campus?</td>\n",
       "      <td></td>\n",
       "      <td>1646109247</td>\n",
       "      <td>1.646124e+09</td>\n",
       "      <td>1</td>\n",
       "      <td>0</td>\n",
       "      <td>0</td>\n",
       "    </tr>\n",
       "    <tr>\n",
       "      <th>1</th>\n",
       "      <td>Its3amInRisley</td>\n",
       "      <td>COVID MEGATHREAD</td>\n",
       "      <td>Please guys remember to direct COVID stuff to ...</td>\n",
       "      <td>1646108528</td>\n",
       "      <td>1.646123e+09</td>\n",
       "      <td>1</td>\n",
       "      <td>0</td>\n",
       "      <td>0</td>\n",
       "    </tr>\n",
       "    <tr>\n",
       "      <th>2</th>\n",
       "      <td>sellingminifridge</td>\n",
       "      <td>Selling hasan minhaj ticket!</td>\n",
       "      <td>dm if anyone wants to buy one ticket for wedne...</td>\n",
       "      <td>1646108470</td>\n",
       "      <td>1.646123e+09</td>\n",
       "      <td>1</td>\n",
       "      <td>0</td>\n",
       "      <td>0</td>\n",
       "    </tr>\n",
       "    <tr>\n",
       "      <th>3</th>\n",
       "      <td>SwordfishInfamous</td>\n",
       "      <td>Is Louise open rn</td>\n",
       "      <td>Title</td>\n",
       "      <td>1646108392</td>\n",
       "      <td>1.646123e+09</td>\n",
       "      <td>1</td>\n",
       "      <td>0</td>\n",
       "      <td>0</td>\n",
       "    </tr>\n",
       "    <tr>\n",
       "      <th>4</th>\n",
       "      <td>HaliTheGreat</td>\n",
       "      <td>Anyone here in the Johnstown, Altoona, or Pitt...</td>\n",
       "      <td>I have a 4 hour drive to my town in West PA bu...</td>\n",
       "      <td>1646108279</td>\n",
       "      <td>1.646123e+09</td>\n",
       "      <td>1</td>\n",
       "      <td>0</td>\n",
       "      <td>0</td>\n",
       "    </tr>\n",
       "    <tr>\n",
       "      <th>...</th>\n",
       "      <td>...</td>\n",
       "      <td>...</td>\n",
       "      <td>...</td>\n",
       "      <td>...</td>\n",
       "      <td>...</td>\n",
       "      <td>...</td>\n",
       "      <td>...</td>\n",
       "      <td>...</td>\n",
       "    </tr>\n",
       "    <tr>\n",
       "      <th>49846</th>\n",
       "      <td>bumchala</td>\n",
       "      <td>aight fuck it lets start this shit, i want eri...</td>\n",
       "      <td>willing to buy up to 4 tix</td>\n",
       "      <td>1551455855</td>\n",
       "      <td>1.551470e+09</td>\n",
       "      <td>0</td>\n",
       "      <td>4</td>\n",
       "      <td>0</td>\n",
       "    </tr>\n",
       "    <tr>\n",
       "      <th>49847</th>\n",
       "      <td>Broilier</td>\n",
       "      <td>waiting for Eric Andre tickets like</td>\n",
       "      <td></td>\n",
       "      <td>1551453199</td>\n",
       "      <td>1.551468e+09</td>\n",
       "      <td>113</td>\n",
       "      <td>12</td>\n",
       "      <td>0</td>\n",
       "    </tr>\n",
       "    <tr>\n",
       "      <th>49848</th>\n",
       "      <td>Liberalscums</td>\n",
       "      <td>Off campus housing smh...</td>\n",
       "      <td>So is there a clearly labeled and comprehensiv...</td>\n",
       "      <td>1551444808</td>\n",
       "      <td>1.551459e+09</td>\n",
       "      <td>6</td>\n",
       "      <td>3</td>\n",
       "      <td>0</td>\n",
       "    </tr>\n",
       "    <tr>\n",
       "      <th>49849</th>\n",
       "      <td>hawaiianbarrels</td>\n",
       "      <td>Cornell Dining stealthy replacing meat with ve...</td>\n",
       "      <td></td>\n",
       "      <td>1551442085</td>\n",
       "      <td>1.551456e+09</td>\n",
       "      <td>0</td>\n",
       "      <td>5</td>\n",
       "      <td>0</td>\n",
       "    </tr>\n",
       "    <tr>\n",
       "      <th>49850</th>\n",
       "      <td>Naffdit</td>\n",
       "      <td>Is the BME MEng worth it?</td>\n",
       "      <td>Hey there. I recently was admitted into the Bi...</td>\n",
       "      <td>1551427930</td>\n",
       "      <td>1.551442e+09</td>\n",
       "      <td>3</td>\n",
       "      <td>0</td>\n",
       "      <td>0</td>\n",
       "    </tr>\n",
       "  </tbody>\n",
       "</table>\n",
       "<p>49851 rows × 8 columns</p>\n",
       "</div>"
      ],
      "text/plain": [
       "                  author                                              title  \\\n",
       "0                  emzow             Good places to Slavic squat on campus?   \n",
       "1         Its3amInRisley                                   COVID MEGATHREAD   \n",
       "2      sellingminifridge                       Selling hasan minhaj ticket!   \n",
       "3      SwordfishInfamous                                  Is Louise open rn   \n",
       "4           HaliTheGreat  Anyone here in the Johnstown, Altoona, or Pitt...   \n",
       "...                  ...                                                ...   \n",
       "49846           bumchala  aight fuck it lets start this shit, i want eri...   \n",
       "49847           Broilier                waiting for Eric Andre tickets like   \n",
       "49848       Liberalscums                          Off campus housing smh...   \n",
       "49849    hawaiianbarrels  Cornell Dining stealthy replacing meat with ve...   \n",
       "49850            Naffdit                          Is the BME MEng worth it?   \n",
       "\n",
       "                                                selftext  created_utc  \\\n",
       "0                                                          1646109247   \n",
       "1      Please guys remember to direct COVID stuff to ...   1646108528   \n",
       "2      dm if anyone wants to buy one ticket for wedne...   1646108470   \n",
       "3                                                  Title   1646108392   \n",
       "4      I have a 4 hour drive to my town in West PA bu...   1646108279   \n",
       "...                                                  ...          ...   \n",
       "49846                         willing to buy up to 4 tix   1551455855   \n",
       "49847                                                      1551453199   \n",
       "49848  So is there a clearly labeled and comprehensiv...   1551444808   \n",
       "49849                                                      1551442085   \n",
       "49850  Hey there. I recently was admitted into the Bi...   1551427930   \n",
       "\n",
       "            created  score  num_comments  num_crossposts  \n",
       "0      1.646124e+09      1             0               0  \n",
       "1      1.646123e+09      1             0               0  \n",
       "2      1.646123e+09      1             0               0  \n",
       "3      1.646123e+09      1             0               0  \n",
       "4      1.646123e+09      1             0               0  \n",
       "...             ...    ...           ...             ...  \n",
       "49846  1.551470e+09      0             4               0  \n",
       "49847  1.551468e+09    113            12               0  \n",
       "49848  1.551459e+09      6             3               0  \n",
       "49849  1.551456e+09      0             5               0  \n",
       "49850  1.551442e+09      3             0               0  \n",
       "\n",
       "[49851 rows x 8 columns]"
      ]
     },
     "execution_count": 13,
     "metadata": {},
     "output_type": "execute_result"
    }
   ],
   "source": [
    "cornell_final = cornell_submissions[['author', 'title', 'selftext', 'created_utc', 'created', 'score', 'num_comments', 'num_crossposts']]\n",
    "\n",
    "cornell_final"
   ]
  },
  {
   "cell_type": "markdown",
   "id": "edb4928e",
   "metadata": {},
   "source": [
    "Now, we can export our finalized cleaned dataframe into a csv file."
   ]
  },
  {
   "cell_type": "markdown",
   "id": "bb9beb45",
   "metadata": {},
   "source": [
    "cleaning data and transforming unix time to standard time "
   ]
  },
  {
   "cell_type": "code",
   "execution_count": 14,
   "id": "d7063d13",
   "metadata": {
    "scrolled": true
   },
   "outputs": [
    {
     "name": "stderr",
     "output_type": "stream",
     "text": [
      "/var/folders/yf/2m7vdqqs0v16g0qhwl70d1700000gn/T/ipykernel_14407/3875834565.py:1: SettingWithCopyWarning: \n",
      "A value is trying to be set on a copy of a slice from a DataFrame.\n",
      "Try using .loc[row_indexer,col_indexer] = value instead\n",
      "\n",
      "See the caveats in the documentation: https://pandas.pydata.org/pandas-docs/stable/user_guide/indexing.html#returning-a-view-versus-a-copy\n",
      "  cornell_final['created_utc'] = pd.to_datetime(cornell_final['created_utc'], unit='s')\n"
     ]
    },
    {
     "data": {
      "text/html": [
       "<div>\n",
       "<style scoped>\n",
       "    .dataframe tbody tr th:only-of-type {\n",
       "        vertical-align: middle;\n",
       "    }\n",
       "\n",
       "    .dataframe tbody tr th {\n",
       "        vertical-align: top;\n",
       "    }\n",
       "\n",
       "    .dataframe thead th {\n",
       "        text-align: right;\n",
       "    }\n",
       "</style>\n",
       "<table border=\"1\" class=\"dataframe\">\n",
       "  <thead>\n",
       "    <tr style=\"text-align: right;\">\n",
       "      <th></th>\n",
       "      <th>author</th>\n",
       "      <th>title</th>\n",
       "      <th>selftext</th>\n",
       "      <th>created_utc</th>\n",
       "      <th>created</th>\n",
       "      <th>score</th>\n",
       "      <th>num_comments</th>\n",
       "      <th>num_crossposts</th>\n",
       "    </tr>\n",
       "  </thead>\n",
       "  <tbody>\n",
       "    <tr>\n",
       "      <th>0</th>\n",
       "      <td>emzow</td>\n",
       "      <td>Good places to Slavic squat on campus?</td>\n",
       "      <td></td>\n",
       "      <td>2022-03-01 04:34:07</td>\n",
       "      <td>1.646124e+09</td>\n",
       "      <td>1</td>\n",
       "      <td>0</td>\n",
       "      <td>0</td>\n",
       "    </tr>\n",
       "    <tr>\n",
       "      <th>1</th>\n",
       "      <td>Its3amInRisley</td>\n",
       "      <td>COVID MEGATHREAD</td>\n",
       "      <td>Please guys remember to direct COVID stuff to ...</td>\n",
       "      <td>2022-03-01 04:22:08</td>\n",
       "      <td>1.646123e+09</td>\n",
       "      <td>1</td>\n",
       "      <td>0</td>\n",
       "      <td>0</td>\n",
       "    </tr>\n",
       "    <tr>\n",
       "      <th>2</th>\n",
       "      <td>sellingminifridge</td>\n",
       "      <td>Selling hasan minhaj ticket!</td>\n",
       "      <td>dm if anyone wants to buy one ticket for wedne...</td>\n",
       "      <td>2022-03-01 04:21:10</td>\n",
       "      <td>1.646123e+09</td>\n",
       "      <td>1</td>\n",
       "      <td>0</td>\n",
       "      <td>0</td>\n",
       "    </tr>\n",
       "    <tr>\n",
       "      <th>3</th>\n",
       "      <td>SwordfishInfamous</td>\n",
       "      <td>Is Louise open rn</td>\n",
       "      <td>Title</td>\n",
       "      <td>2022-03-01 04:19:52</td>\n",
       "      <td>1.646123e+09</td>\n",
       "      <td>1</td>\n",
       "      <td>0</td>\n",
       "      <td>0</td>\n",
       "    </tr>\n",
       "    <tr>\n",
       "      <th>4</th>\n",
       "      <td>HaliTheGreat</td>\n",
       "      <td>Anyone here in the Johnstown, Altoona, or Pitt...</td>\n",
       "      <td>I have a 4 hour drive to my town in West PA bu...</td>\n",
       "      <td>2022-03-01 04:17:59</td>\n",
       "      <td>1.646123e+09</td>\n",
       "      <td>1</td>\n",
       "      <td>0</td>\n",
       "      <td>0</td>\n",
       "    </tr>\n",
       "    <tr>\n",
       "      <th>...</th>\n",
       "      <td>...</td>\n",
       "      <td>...</td>\n",
       "      <td>...</td>\n",
       "      <td>...</td>\n",
       "      <td>...</td>\n",
       "      <td>...</td>\n",
       "      <td>...</td>\n",
       "      <td>...</td>\n",
       "    </tr>\n",
       "    <tr>\n",
       "      <th>49846</th>\n",
       "      <td>bumchala</td>\n",
       "      <td>aight fuck it lets start this shit, i want eri...</td>\n",
       "      <td>willing to buy up to 4 tix</td>\n",
       "      <td>2019-03-01 15:57:35</td>\n",
       "      <td>1.551470e+09</td>\n",
       "      <td>0</td>\n",
       "      <td>4</td>\n",
       "      <td>0</td>\n",
       "    </tr>\n",
       "    <tr>\n",
       "      <th>49847</th>\n",
       "      <td>Broilier</td>\n",
       "      <td>waiting for Eric Andre tickets like</td>\n",
       "      <td></td>\n",
       "      <td>2019-03-01 15:13:19</td>\n",
       "      <td>1.551468e+09</td>\n",
       "      <td>113</td>\n",
       "      <td>12</td>\n",
       "      <td>0</td>\n",
       "    </tr>\n",
       "    <tr>\n",
       "      <th>49848</th>\n",
       "      <td>Liberalscums</td>\n",
       "      <td>Off campus housing smh...</td>\n",
       "      <td>So is there a clearly labeled and comprehensiv...</td>\n",
       "      <td>2019-03-01 12:53:28</td>\n",
       "      <td>1.551459e+09</td>\n",
       "      <td>6</td>\n",
       "      <td>3</td>\n",
       "      <td>0</td>\n",
       "    </tr>\n",
       "    <tr>\n",
       "      <th>49849</th>\n",
       "      <td>hawaiianbarrels</td>\n",
       "      <td>Cornell Dining stealthy replacing meat with ve...</td>\n",
       "      <td></td>\n",
       "      <td>2019-03-01 12:08:05</td>\n",
       "      <td>1.551456e+09</td>\n",
       "      <td>0</td>\n",
       "      <td>5</td>\n",
       "      <td>0</td>\n",
       "    </tr>\n",
       "    <tr>\n",
       "      <th>49850</th>\n",
       "      <td>Naffdit</td>\n",
       "      <td>Is the BME MEng worth it?</td>\n",
       "      <td>Hey there. I recently was admitted into the Bi...</td>\n",
       "      <td>2019-03-01 08:12:10</td>\n",
       "      <td>1.551442e+09</td>\n",
       "      <td>3</td>\n",
       "      <td>0</td>\n",
       "      <td>0</td>\n",
       "    </tr>\n",
       "  </tbody>\n",
       "</table>\n",
       "<p>49851 rows × 8 columns</p>\n",
       "</div>"
      ],
      "text/plain": [
       "                  author                                              title  \\\n",
       "0                  emzow             Good places to Slavic squat on campus?   \n",
       "1         Its3amInRisley                                   COVID MEGATHREAD   \n",
       "2      sellingminifridge                       Selling hasan minhaj ticket!   \n",
       "3      SwordfishInfamous                                  Is Louise open rn   \n",
       "4           HaliTheGreat  Anyone here in the Johnstown, Altoona, or Pitt...   \n",
       "...                  ...                                                ...   \n",
       "49846           bumchala  aight fuck it lets start this shit, i want eri...   \n",
       "49847           Broilier                waiting for Eric Andre tickets like   \n",
       "49848       Liberalscums                          Off campus housing smh...   \n",
       "49849    hawaiianbarrels  Cornell Dining stealthy replacing meat with ve...   \n",
       "49850            Naffdit                          Is the BME MEng worth it?   \n",
       "\n",
       "                                                selftext         created_utc  \\\n",
       "0                                                        2022-03-01 04:34:07   \n",
       "1      Please guys remember to direct COVID stuff to ... 2022-03-01 04:22:08   \n",
       "2      dm if anyone wants to buy one ticket for wedne... 2022-03-01 04:21:10   \n",
       "3                                                  Title 2022-03-01 04:19:52   \n",
       "4      I have a 4 hour drive to my town in West PA bu... 2022-03-01 04:17:59   \n",
       "...                                                  ...                 ...   \n",
       "49846                         willing to buy up to 4 tix 2019-03-01 15:57:35   \n",
       "49847                                                    2019-03-01 15:13:19   \n",
       "49848  So is there a clearly labeled and comprehensiv... 2019-03-01 12:53:28   \n",
       "49849                                                    2019-03-01 12:08:05   \n",
       "49850  Hey there. I recently was admitted into the Bi... 2019-03-01 08:12:10   \n",
       "\n",
       "            created  score  num_comments  num_crossposts  \n",
       "0      1.646124e+09      1             0               0  \n",
       "1      1.646123e+09      1             0               0  \n",
       "2      1.646123e+09      1             0               0  \n",
       "3      1.646123e+09      1             0               0  \n",
       "4      1.646123e+09      1             0               0  \n",
       "...             ...    ...           ...             ...  \n",
       "49846  1.551470e+09      0             4               0  \n",
       "49847  1.551468e+09    113            12               0  \n",
       "49848  1.551459e+09      6             3               0  \n",
       "49849  1.551456e+09      0             5               0  \n",
       "49850  1.551442e+09      3             0               0  \n",
       "\n",
       "[49851 rows x 8 columns]"
      ]
     },
     "execution_count": 14,
     "metadata": {},
     "output_type": "execute_result"
    }
   ],
   "source": [
    "cornell_final['created_utc'] = pd.to_datetime(cornell_final['created_utc'], unit='s')\n",
    "cornell_final"
   ]
  },
  {
   "cell_type": "code",
   "execution_count": 15,
   "id": "e88b9da4",
   "metadata": {},
   "outputs": [],
   "source": [
    "cornell_final.to_csv(\"cornell_final.csv\", encoding='utf-8', index=False)"
   ]
  },
  {
   "cell_type": "code",
   "execution_count": null,
   "id": "f72020aa",
   "metadata": {},
   "outputs": [],
   "source": []
  },
  {
   "cell_type": "code",
   "execution_count": null,
   "id": "bd4ed704-5613-4e4e-b3e2-95af19a77532",
   "metadata": {},
   "outputs": [],
   "source": []
  }
 ],
 "metadata": {
  "kernelspec": {
   "display_name": "Python 3 (ipykernel)",
   "language": "python",
   "name": "python3"
  },
  "language_info": {
   "codemirror_mode": {
    "name": "ipython",
    "version": 3
   },
   "file_extension": ".py",
   "mimetype": "text/x-python",
   "name": "python",
   "nbconvert_exporter": "python",
   "pygments_lexer": "ipython3",
   "version": "3.9.7"
  }
 },
 "nbformat": 4,
 "nbformat_minor": 5
}
