{
 "cells": [
  {
   "cell_type": "markdown",
   "id": "8a385adf",
   "metadata": {},
   "source": [
    "# Text Preprocessing and Sentiment analysis of r/Happy"
   ]
  },
  {
   "cell_type": "markdown",
   "id": "0f478465",
   "metadata": {},
   "source": [
    "Import and read the csv file "
   ]
  },
  {
   "cell_type": "code",
   "execution_count": 1,
   "id": "7ca61d5d",
   "metadata": {},
   "outputs": [
    {
     "name": "stdout",
     "output_type": "stream",
     "text": [
      "Requirement already satisfied: emoji in /Users/gabychu/opt/anaconda3/lib/python3.9/site-packages (1.6.1)\n",
      "Note: you may need to restart the kernel to use updated packages.\n",
      "Requirement already satisfied: nltk in /Users/gabychu/opt/anaconda3/lib/python3.9/site-packages (3.6.5)\n",
      "Requirement already satisfied: click in /Users/gabychu/opt/anaconda3/lib/python3.9/site-packages (from nltk) (8.0.3)\n",
      "Requirement already satisfied: joblib in /Users/gabychu/opt/anaconda3/lib/python3.9/site-packages (from nltk) (1.1.0)\n",
      "Requirement already satisfied: regex>=2021.8.3 in /Users/gabychu/opt/anaconda3/lib/python3.9/site-packages (from nltk) (2021.8.3)\n",
      "Requirement already satisfied: tqdm in /Users/gabychu/opt/anaconda3/lib/python3.9/site-packages (from nltk) (4.62.3)\n",
      "Note: you may need to restart the kernel to use updated packages.\n",
      "Requirement already satisfied: spacy in /Users/gabychu/opt/anaconda3/lib/python3.9/site-packages (3.2.0)\n",
      "Requirement already satisfied: typer<0.5.0,>=0.3.0 in /Users/gabychu/opt/anaconda3/lib/python3.9/site-packages (from spacy) (0.4.0)\n",
      "Requirement already satisfied: catalogue<2.1.0,>=2.0.6 in /Users/gabychu/opt/anaconda3/lib/python3.9/site-packages (from spacy) (2.0.6)\n",
      "Requirement already satisfied: setuptools in /Users/gabychu/opt/anaconda3/lib/python3.9/site-packages (from spacy) (58.0.4)\n",
      "Requirement already satisfied: murmurhash<1.1.0,>=0.28.0 in /Users/gabychu/opt/anaconda3/lib/python3.9/site-packages (from spacy) (1.0.6)\n",
      "Requirement already satisfied: packaging>=20.0 in /Users/gabychu/opt/anaconda3/lib/python3.9/site-packages (from spacy) (21.0)\n",
      "Requirement already satisfied: requests<3.0.0,>=2.13.0 in /Users/gabychu/opt/anaconda3/lib/python3.9/site-packages (from spacy) (2.26.0)\n",
      "Requirement already satisfied: numpy>=1.15.0 in /Users/gabychu/opt/anaconda3/lib/python3.9/site-packages (from spacy) (1.20.3)\n",
      "Requirement already satisfied: blis<0.8.0,>=0.4.0 in /Users/gabychu/opt/anaconda3/lib/python3.9/site-packages (from spacy) (0.7.5)\n",
      "Requirement already satisfied: langcodes<4.0.0,>=3.2.0 in /Users/gabychu/opt/anaconda3/lib/python3.9/site-packages (from spacy) (3.3.0)\n",
      "Requirement already satisfied: wasabi<1.1.0,>=0.8.1 in /Users/gabychu/opt/anaconda3/lib/python3.9/site-packages (from spacy) (0.8.2)\n",
      "Requirement already satisfied: srsly<3.0.0,>=2.4.1 in /Users/gabychu/opt/anaconda3/lib/python3.9/site-packages (from spacy) (2.4.2)\n",
      "Requirement already satisfied: preshed<3.1.0,>=3.0.2 in /Users/gabychu/opt/anaconda3/lib/python3.9/site-packages (from spacy) (3.0.6)\n",
      "Requirement already satisfied: cymem<2.1.0,>=2.0.2 in /Users/gabychu/opt/anaconda3/lib/python3.9/site-packages (from spacy) (2.0.6)\n",
      "Requirement already satisfied: pathy>=0.3.5 in /Users/gabychu/opt/anaconda3/lib/python3.9/site-packages (from spacy) (0.6.1)\n",
      "Requirement already satisfied: pydantic!=1.8,!=1.8.1,<1.9.0,>=1.7.4 in /Users/gabychu/opt/anaconda3/lib/python3.9/site-packages (from spacy) (1.8.2)\n",
      "Requirement already satisfied: jinja2 in /Users/gabychu/opt/anaconda3/lib/python3.9/site-packages (from spacy) (2.11.3)\n",
      "Requirement already satisfied: spacy-loggers<2.0.0,>=1.0.0 in /Users/gabychu/opt/anaconda3/lib/python3.9/site-packages (from spacy) (1.0.1)\n",
      "Requirement already satisfied: tqdm<5.0.0,>=4.38.0 in /Users/gabychu/opt/anaconda3/lib/python3.9/site-packages (from spacy) (4.62.3)\n",
      "Requirement already satisfied: spacy-legacy<3.1.0,>=3.0.8 in /Users/gabychu/opt/anaconda3/lib/python3.9/site-packages (from spacy) (3.0.8)\n",
      "Requirement already satisfied: thinc<8.1.0,>=8.0.12 in /Users/gabychu/opt/anaconda3/lib/python3.9/site-packages (from spacy) (8.0.13)\n",
      "Requirement already satisfied: pyparsing>=2.0.2 in /Users/gabychu/opt/anaconda3/lib/python3.9/site-packages (from packaging>=20.0->spacy) (3.0.4)\n",
      "Requirement already satisfied: smart-open<6.0.0,>=5.0.0 in /Users/gabychu/opt/anaconda3/lib/python3.9/site-packages (from pathy>=0.3.5->spacy) (5.2.1)\n",
      "Requirement already satisfied: typing-extensions>=3.7.4.3 in /Users/gabychu/opt/anaconda3/lib/python3.9/site-packages (from pydantic!=1.8,!=1.8.1,<1.9.0,>=1.7.4->spacy) (3.10.0.2)\n",
      "Requirement already satisfied: certifi>=2017.4.17 in /Users/gabychu/opt/anaconda3/lib/python3.9/site-packages (from requests<3.0.0,>=2.13.0->spacy) (2021.10.8)\n",
      "Requirement already satisfied: charset-normalizer~=2.0.0 in /Users/gabychu/opt/anaconda3/lib/python3.9/site-packages (from requests<3.0.0,>=2.13.0->spacy) (2.0.4)\n",
      "Requirement already satisfied: idna<4,>=2.5 in /Users/gabychu/opt/anaconda3/lib/python3.9/site-packages (from requests<3.0.0,>=2.13.0->spacy) (3.2)\n",
      "Requirement already satisfied: urllib3<1.27,>=1.21.1 in /Users/gabychu/opt/anaconda3/lib/python3.9/site-packages (from requests<3.0.0,>=2.13.0->spacy) (1.26.7)\n",
      "Requirement already satisfied: click<9.0.0,>=7.1.1 in /Users/gabychu/opt/anaconda3/lib/python3.9/site-packages (from typer<0.5.0,>=0.3.0->spacy) (8.0.3)\n",
      "Requirement already satisfied: MarkupSafe>=0.23 in /Users/gabychu/opt/anaconda3/lib/python3.9/site-packages (from jinja2->spacy) (1.1.1)\n",
      "Note: you may need to restart the kernel to use updated packages.\n",
      "Collecting en-core-web-sm==3.2.0\n",
      "  Downloading https://github.com/explosion/spacy-models/releases/download/en_core_web_sm-3.2.0/en_core_web_sm-3.2.0-py3-none-any.whl (13.9 MB)\n",
      "\u001b[K     |████████████████████████████████| 13.9 MB 12.8 MB/s eta 0:00:01\n",
      "\u001b[?25hRequirement already satisfied: spacy<3.3.0,>=3.2.0 in /Users/gabychu/opt/anaconda3/lib/python3.9/site-packages (from en-core-web-sm==3.2.0) (3.2.0)\n",
      "Requirement already satisfied: wasabi<1.1.0,>=0.8.1 in /Users/gabychu/opt/anaconda3/lib/python3.9/site-packages (from spacy<3.3.0,>=3.2.0->en-core-web-sm==3.2.0) (0.8.2)\n",
      "Requirement already satisfied: srsly<3.0.0,>=2.4.1 in /Users/gabychu/opt/anaconda3/lib/python3.9/site-packages (from spacy<3.3.0,>=3.2.0->en-core-web-sm==3.2.0) (2.4.2)\n",
      "Requirement already satisfied: murmurhash<1.1.0,>=0.28.0 in /Users/gabychu/opt/anaconda3/lib/python3.9/site-packages (from spacy<3.3.0,>=3.2.0->en-core-web-sm==3.2.0) (1.0.6)\n",
      "Requirement already satisfied: setuptools in /Users/gabychu/opt/anaconda3/lib/python3.9/site-packages (from spacy<3.3.0,>=3.2.0->en-core-web-sm==3.2.0) (58.0.4)\n",
      "Requirement already satisfied: cymem<2.1.0,>=2.0.2 in /Users/gabychu/opt/anaconda3/lib/python3.9/site-packages (from spacy<3.3.0,>=3.2.0->en-core-web-sm==3.2.0) (2.0.6)\n",
      "Requirement already satisfied: langcodes<4.0.0,>=3.2.0 in /Users/gabychu/opt/anaconda3/lib/python3.9/site-packages (from spacy<3.3.0,>=3.2.0->en-core-web-sm==3.2.0) (3.3.0)\n",
      "Requirement already satisfied: spacy-loggers<2.0.0,>=1.0.0 in /Users/gabychu/opt/anaconda3/lib/python3.9/site-packages (from spacy<3.3.0,>=3.2.0->en-core-web-sm==3.2.0) (1.0.1)\n",
      "Requirement already satisfied: jinja2 in /Users/gabychu/opt/anaconda3/lib/python3.9/site-packages (from spacy<3.3.0,>=3.2.0->en-core-web-sm==3.2.0) (2.11.3)\n",
      "Requirement already satisfied: requests<3.0.0,>=2.13.0 in /Users/gabychu/opt/anaconda3/lib/python3.9/site-packages (from spacy<3.3.0,>=3.2.0->en-core-web-sm==3.2.0) (2.26.0)\n",
      "Requirement already satisfied: blis<0.8.0,>=0.4.0 in /Users/gabychu/opt/anaconda3/lib/python3.9/site-packages (from spacy<3.3.0,>=3.2.0->en-core-web-sm==3.2.0) (0.7.5)\n",
      "Requirement already satisfied: tqdm<5.0.0,>=4.38.0 in /Users/gabychu/opt/anaconda3/lib/python3.9/site-packages (from spacy<3.3.0,>=3.2.0->en-core-web-sm==3.2.0) (4.62.3)\n",
      "Requirement already satisfied: thinc<8.1.0,>=8.0.12 in /Users/gabychu/opt/anaconda3/lib/python3.9/site-packages (from spacy<3.3.0,>=3.2.0->en-core-web-sm==3.2.0) (8.0.13)\n",
      "Requirement already satisfied: numpy>=1.15.0 in /Users/gabychu/opt/anaconda3/lib/python3.9/site-packages (from spacy<3.3.0,>=3.2.0->en-core-web-sm==3.2.0) (1.20.3)\n",
      "Requirement already satisfied: preshed<3.1.0,>=3.0.2 in /Users/gabychu/opt/anaconda3/lib/python3.9/site-packages (from spacy<3.3.0,>=3.2.0->en-core-web-sm==3.2.0) (3.0.6)\n",
      "Requirement already satisfied: pydantic!=1.8,!=1.8.1,<1.9.0,>=1.7.4 in /Users/gabychu/opt/anaconda3/lib/python3.9/site-packages (from spacy<3.3.0,>=3.2.0->en-core-web-sm==3.2.0) (1.8.2)\n",
      "Requirement already satisfied: packaging>=20.0 in /Users/gabychu/opt/anaconda3/lib/python3.9/site-packages (from spacy<3.3.0,>=3.2.0->en-core-web-sm==3.2.0) (21.0)\n",
      "Requirement already satisfied: spacy-legacy<3.1.0,>=3.0.8 in /Users/gabychu/opt/anaconda3/lib/python3.9/site-packages (from spacy<3.3.0,>=3.2.0->en-core-web-sm==3.2.0) (3.0.8)\n",
      "Requirement already satisfied: catalogue<2.1.0,>=2.0.6 in /Users/gabychu/opt/anaconda3/lib/python3.9/site-packages (from spacy<3.3.0,>=3.2.0->en-core-web-sm==3.2.0) (2.0.6)\n",
      "Requirement already satisfied: pathy>=0.3.5 in /Users/gabychu/opt/anaconda3/lib/python3.9/site-packages (from spacy<3.3.0,>=3.2.0->en-core-web-sm==3.2.0) (0.6.1)\n",
      "Requirement already satisfied: typer<0.5.0,>=0.3.0 in /Users/gabychu/opt/anaconda3/lib/python3.9/site-packages (from spacy<3.3.0,>=3.2.0->en-core-web-sm==3.2.0) (0.4.0)\n",
      "Requirement already satisfied: pyparsing>=2.0.2 in /Users/gabychu/opt/anaconda3/lib/python3.9/site-packages (from packaging>=20.0->spacy<3.3.0,>=3.2.0->en-core-web-sm==3.2.0) (3.0.4)\n",
      "Requirement already satisfied: smart-open<6.0.0,>=5.0.0 in /Users/gabychu/opt/anaconda3/lib/python3.9/site-packages (from pathy>=0.3.5->spacy<3.3.0,>=3.2.0->en-core-web-sm==3.2.0) (5.2.1)\n",
      "Requirement already satisfied: typing-extensions>=3.7.4.3 in /Users/gabychu/opt/anaconda3/lib/python3.9/site-packages (from pydantic!=1.8,!=1.8.1,<1.9.0,>=1.7.4->spacy<3.3.0,>=3.2.0->en-core-web-sm==3.2.0) (3.10.0.2)\n",
      "Requirement already satisfied: charset-normalizer~=2.0.0 in /Users/gabychu/opt/anaconda3/lib/python3.9/site-packages (from requests<3.0.0,>=2.13.0->spacy<3.3.0,>=3.2.0->en-core-web-sm==3.2.0) (2.0.4)\n",
      "Requirement already satisfied: urllib3<1.27,>=1.21.1 in /Users/gabychu/opt/anaconda3/lib/python3.9/site-packages (from requests<3.0.0,>=2.13.0->spacy<3.3.0,>=3.2.0->en-core-web-sm==3.2.0) (1.26.7)\n",
      "Requirement already satisfied: certifi>=2017.4.17 in /Users/gabychu/opt/anaconda3/lib/python3.9/site-packages (from requests<3.0.0,>=2.13.0->spacy<3.3.0,>=3.2.0->en-core-web-sm==3.2.0) (2021.10.8)\n",
      "Requirement already satisfied: idna<4,>=2.5 in /Users/gabychu/opt/anaconda3/lib/python3.9/site-packages (from requests<3.0.0,>=2.13.0->spacy<3.3.0,>=3.2.0->en-core-web-sm==3.2.0) (3.2)\n",
      "Requirement already satisfied: click<9.0.0,>=7.1.1 in /Users/gabychu/opt/anaconda3/lib/python3.9/site-packages (from typer<0.5.0,>=0.3.0->spacy<3.3.0,>=3.2.0->en-core-web-sm==3.2.0) (8.0.3)\n",
      "Requirement already satisfied: MarkupSafe>=0.23 in /Users/gabychu/opt/anaconda3/lib/python3.9/site-packages (from jinja2->spacy<3.3.0,>=3.2.0->en-core-web-sm==3.2.0) (1.1.1)\n",
      "\u001b[38;5;2m✔ Download and installation successful\u001b[0m\n",
      "You can now load the package via spacy.load('en_core_web_sm')\n"
     ]
    }
   ],
   "source": [
    "%pip install emoji\n",
    "%pip install nltk\n",
    "%pip install spacy\n",
    "import pandas as pd\n",
    "import emoji as emoji\n",
    "import nltk\n",
    "from nltk.tokenize import RegexpTokenizer\n",
    "!python -m spacy download en_core_web_sm\n",
    "import spacy\n",
    "import en_core_web_sm\n",
    "from nltk.stem import WordNetLemmatizer"
   ]
  },
  {
   "cell_type": "code",
   "execution_count": 6,
   "id": "142dee5a",
   "metadata": {},
   "outputs": [],
   "source": [
    "happy_final = pd.read_csv(\"happy_final.csv\")"
   ]
  },
  {
   "cell_type": "code",
   "execution_count": 13,
   "id": "25eb9bae",
   "metadata": {},
   "outputs": [
    {
     "data": {
      "text/html": [
       "<div>\n",
       "<style scoped>\n",
       "    .dataframe tbody tr th:only-of-type {\n",
       "        vertical-align: middle;\n",
       "    }\n",
       "\n",
       "    .dataframe tbody tr th {\n",
       "        vertical-align: top;\n",
       "    }\n",
       "\n",
       "    .dataframe thead th {\n",
       "        text-align: right;\n",
       "    }\n",
       "</style>\n",
       "<table border=\"1\" class=\"dataframe\">\n",
       "  <thead>\n",
       "    <tr style=\"text-align: right;\">\n",
       "      <th></th>\n",
       "      <th>author</th>\n",
       "      <th>title</th>\n",
       "      <th>selftext</th>\n",
       "      <th>full_link</th>\n",
       "      <th>created_utc</th>\n",
       "      <th>score</th>\n",
       "      <th>num_comments</th>\n",
       "      <th>num_crossposts</th>\n",
       "    </tr>\n",
       "  </thead>\n",
       "  <tbody>\n",
       "    <tr>\n",
       "      <th>0</th>\n",
       "      <td>Utterlybored</td>\n",
       "      <td>Two Weeks Since Shot #2 Means I Have Reached P...</td>\n",
       "      <td>...or as I call it, 2V + 14\\n\\nOff to hug the ...</td>\n",
       "      <td>https://www.reddit.com/r/happy/comments/mnmzct...</td>\n",
       "      <td>2021-04-09 18:02:50</td>\n",
       "      <td>1</td>\n",
       "      <td>3</td>\n",
       "      <td>0</td>\n",
       "    </tr>\n",
       "    <tr>\n",
       "      <th>1</th>\n",
       "      <td>Infinitianss</td>\n",
       "      <td>I don’t know if it’s humans’ genetic muddle, o...</td>\n",
       "      <td>It's about time we stop feeling gloomy and sta...</td>\n",
       "      <td>https://www.reddit.com/r/happy/comments/mnmtgs...</td>\n",
       "      <td>2021-04-09 17:54:57</td>\n",
       "      <td>1</td>\n",
       "      <td>3</td>\n",
       "      <td>0</td>\n",
       "    </tr>\n",
       "    <tr>\n",
       "      <th>2</th>\n",
       "      <td>alicerosemusic</td>\n",
       "      <td>Listen to this music and remember what it is l...</td>\n",
       "      <td>\\n\\n[https://youtu.be/g9xtRcHvyDI](https://yo...</td>\n",
       "      <td>https://www.reddit.com/r/happy/comments/mnd7gi...</td>\n",
       "      <td>2021-04-09 09:04:32</td>\n",
       "      <td>1</td>\n",
       "      <td>2</td>\n",
       "      <td>0</td>\n",
       "    </tr>\n",
       "    <tr>\n",
       "      <th>3</th>\n",
       "      <td>runthereszombies</td>\n",
       "      <td>Got a really nice compliment about my OSCE ass...</td>\n",
       "      <td>Im a medical student in the US. At the end of ...</td>\n",
       "      <td>https://www.reddit.com/r/happy/comments/mnadyl...</td>\n",
       "      <td>2021-04-09 05:27:11</td>\n",
       "      <td>1</td>\n",
       "      <td>2</td>\n",
       "      <td>0</td>\n",
       "    </tr>\n",
       "    <tr>\n",
       "      <th>4</th>\n",
       "      <td>cinnabumbum</td>\n",
       "      <td>One of the most joyous parts of my day is hear...</td>\n",
       "      <td>My 3 month old puppy is in the garden right no...</td>\n",
       "      <td>https://www.reddit.com/r/happy/comments/mn3qam...</td>\n",
       "      <td>2021-04-08 22:54:25</td>\n",
       "      <td>1</td>\n",
       "      <td>3</td>\n",
       "      <td>0</td>\n",
       "    </tr>\n",
       "  </tbody>\n",
       "</table>\n",
       "</div>"
      ],
      "text/plain": [
       "             author                                              title  \\\n",
       "0      Utterlybored  Two Weeks Since Shot #2 Means I Have Reached P...   \n",
       "1      Infinitianss  I don’t know if it’s humans’ genetic muddle, o...   \n",
       "2    alicerosemusic  Listen to this music and remember what it is l...   \n",
       "3  runthereszombies  Got a really nice compliment about my OSCE ass...   \n",
       "4       cinnabumbum  One of the most joyous parts of my day is hear...   \n",
       "\n",
       "                                            selftext  \\\n",
       "0  ...or as I call it, 2V + 14\\n\\nOff to hug the ...   \n",
       "1  It's about time we stop feeling gloomy and sta...   \n",
       "2   \\n\\n[https://youtu.be/g9xtRcHvyDI](https://yo...   \n",
       "3  Im a medical student in the US. At the end of ...   \n",
       "4  My 3 month old puppy is in the garden right no...   \n",
       "\n",
       "                                           full_link          created_utc  \\\n",
       "0  https://www.reddit.com/r/happy/comments/mnmzct...  2021-04-09 18:02:50   \n",
       "1  https://www.reddit.com/r/happy/comments/mnmtgs...  2021-04-09 17:54:57   \n",
       "2  https://www.reddit.com/r/happy/comments/mnd7gi...  2021-04-09 09:04:32   \n",
       "3  https://www.reddit.com/r/happy/comments/mnadyl...  2021-04-09 05:27:11   \n",
       "4  https://www.reddit.com/r/happy/comments/mn3qam...  2021-04-08 22:54:25   \n",
       "\n",
       "   score  num_comments  num_crossposts  \n",
       "0      1             3               0  \n",
       "1      1             3               0  \n",
       "2      1             2               0  \n",
       "3      1             2               0  \n",
       "4      1             3               0  "
      ]
     },
     "execution_count": 13,
     "metadata": {},
     "output_type": "execute_result"
    }
   ],
   "source": [
    "happy_final.head()"
   ]
  },
  {
   "cell_type": "markdown",
   "id": "6786564b",
   "metadata": {},
   "source": [
    "We start the sentiment analysis with text preprocessing. "
   ]
  },
  {
   "cell_type": "markdown",
   "id": "858ea16f",
   "metadata": {},
   "source": [
    "Store all text in a list"
   ]
  },
  {
   "cell_type": "code",
   "execution_count": 9,
   "id": "55c2f85b",
   "metadata": {},
   "outputs": [
    {
     "name": "stdout",
     "output_type": "stream",
     "text": [
      "Total posts scraped: 1628\n"
     ]
    }
   ],
   "source": [
    "text_all = []\n",
    "for i in happy_final.loc[:,\"selftext\"]:\n",
    "    text_all.append(i)\n",
    "print('Total posts scraped:', len(text_all))"
   ]
  },
  {
   "cell_type": "markdown",
   "id": "d6ada9ba",
   "metadata": {},
   "source": [
    "Then, we preprocess the titles to get rid of the emojis, stopwords, and links "
   ]
  },
  {
   "cell_type": "code",
   "execution_count": 18,
   "id": "2f74f15a",
   "metadata": {},
   "outputs": [],
   "source": [
    "#Make all selftext content into a string object  \n",
    "text_list = text_all\n",
    "text_list = [str(i) for i in text_list] #this makes every title into a string itself but separated by commas "
   ]
  },
  {
   "cell_type": "code",
   "execution_count": 20,
   "id": "3076d78f",
   "metadata": {},
   "outputs": [],
   "source": [
    "#removing emojis\n",
    "def give_emoji_free_text(text): \n",
    "    return emoji.get_emoji_regexp().sub(r'', text)\n",
    "\n",
    "text_clean = [give_emoji_free_text(i) for i in text_list]"
   ]
  },
  {
   "cell_type": "code",
   "execution_count": 21,
   "id": "198b743b-9db3-4196-b91c-f16750aeb662",
   "metadata": {},
   "outputs": [],
   "source": [
    "## tokenization"
   ]
  },
  {
   "cell_type": "code",
   "execution_count": 35,
   "id": "c5d667b7",
   "metadata": {},
   "outputs": [
    {
     "name": "stdout",
     "output_type": "stream",
     "text": [
      "[['or', 'as', 'I', 'call', 'it', '2V', '14', 'Off', 'to', 'hug', 'the', 'kids', 'and', 'grandkids', 'Time', 'to', 'party', 'with', 'my', 'other', '2V', '14', 'friends', 'THANK', 'YOU', 'SCIENCE'], ['It', 's', 'about', 'time', 'we', 'stop', 'feeling', 'gloomy', 'and', 'start', 'feeling', 'HAPPY', 'https', 'infinitians', 'com', 'start', 'feeling', 'happy', 'https', 'infinitians', 'com', 'start', 'feeling', 'happy'], ['https', 'youtu', 'be', 'g9xtRcHvyDI', 'https', 'youtu', 'be', 'g9xtRcHvyDI', 'Alice', 'Rose', 'Alive', 'folk', 'worldmusic', 'indiepop'], ['Im', 'a', 'medical', 'student', 'in', 'the', 'US', 'At', 'the', 'end', 'of', 'the', 'year', 'every', 'US', 'med', 'student', 'has', 'to', 'complete', 'a', 'several', 'hours', 'long', 'assessment', 'called', 'an', 'OSCE', 'where', 'you', 'conduct', '5', 'or', '6', 'doctors', 'appointments', 'with', 'a', 'variety', 'of', 'people', 'who', 'have', 'a', 'variety', 'of', 'complaints', 'The', 'patients', 'are', 'trained', 'actors', 'Anything', 'from', 'a', 'stomach', 'ache', 'to', 'a', 'stroke', 'and', 'you', 'dont', 'know', 'what', 'it', 'is', 'until', 'you', 'walk', 'into', 'the', 'exam', 'room', 'Our', 'OSCEs', 'are', 'running', 'this', 'month', 'and', 'I', 'did', 'mine', 'yesterday', 'I', 'didnt', 'know', 'how', 'to', 'feel', 'about', 'it', 'because', 'I', 've', 'been', 'having', 'a', 'lot', 'of', 'self', 'doubt', 'about', 'my', 'ability', 'to', 'do', 'this', 'thing', 'Today', 'I', 'was', 'waiting', 'to', 'go', 'into', 'a', 'class', 'when', 'I', 'heard', 'my', 'name', 'being', 'called', 'from', 'behind', 'me', 'I', 'turned', 'around', 'and', 'the', 'director', 'of', 'the', 'program', 'that', 'trains', 'the', 'actors', 'approached', 'me', 'to', 'compliment', 'me', 'on', 'the', 'OSCE', 'I', 'had', 'with', 'her', 'the', 'day', 'before', 'I', 'haven', 't', 'felt', 'that', 'happy', 'about', 'something', 'in', 'a', 'really', 'long', 'time'], ['My', '3', 'month', 'old', 'puppy', 'is', 'in', 'the', 'garden', 'right', 'now', 'just', 'chewing', 'on', 'his', 'toy', 'The', 'squeaky', 'noise', 'is', 'so', 'cute', 'and', 'I', 'can', 't', 'imagine', 'what', 'my', 'life', 'looked', 'like', 'before', 'I', 'had', 'him', 'To', 'me', 'this', 'is', 'true', 'happiness']]\n"
     ]
    }
   ],
   "source": [
    "tokenizer = RegexpTokenizer('\\w+|\\$[\\d\\.]+|\\S+?!!!')\n",
    "tokenized_string = [tokenizer.tokenize(i) for i in text_clean]\n",
    "print(tokenized_string[:5])"
   ]
  },
  {
   "cell_type": "markdown",
   "id": "23d07e1a",
   "metadata": {},
   "source": [
    "Some words are uppercase while others are lowercase. We must standardize to all lower case then put it in a list "
   ]
  },
  {
   "cell_type": "code",
   "execution_count": 37,
   "id": "a8967311",
   "metadata": {},
   "outputs": [
    {
     "name": "stdout",
     "output_type": "stream",
     "text": [
      "[['or', 'as', 'i', 'call', 'it', '2v', '14', 'off', 'to', 'hug', 'the', 'kids', 'and', 'grandkids', 'time', 'to', 'party', 'with', 'my', 'other', '2v', '14', 'friends', 'thank', 'you', 'science'], ['it', 's', 'about', 'time', 'we', 'stop', 'feeling', 'gloomy', 'and', 'start', 'feeling', 'happy', 'https', 'infinitians', 'com', 'start', 'feeling', 'happy', 'https', 'infinitians', 'com', 'start', 'feeling', 'happy'], ['https', 'youtu', 'be', 'g9xtrchvydi', 'https', 'youtu', 'be', 'g9xtrchvydi', 'alice', 'rose', 'alive', 'folk', 'worldmusic', 'indiepop'], ['im', 'a', 'medical', 'student', 'in', 'the', 'us', 'at', 'the', 'end', 'of', 'the', 'year', 'every', 'us', 'med', 'student', 'has', 'to', 'complete', 'a', 'several', 'hours', 'long', 'assessment', 'called', 'an', 'osce', 'where', 'you', 'conduct', '5', 'or', '6', 'doctors', 'appointments', 'with', 'a', 'variety', 'of', 'people', 'who', 'have', 'a', 'variety', 'of', 'complaints', 'the', 'patients', 'are', 'trained', 'actors', 'anything', 'from', 'a', 'stomach', 'ache', 'to', 'a', 'stroke', 'and', 'you', 'dont', 'know', 'what', 'it', 'is', 'until', 'you', 'walk', 'into', 'the', 'exam', 'room', 'our', 'osces', 'are', 'running', 'this', 'month', 'and', 'i', 'did', 'mine', 'yesterday', 'i', 'didnt', 'know', 'how', 'to', 'feel', 'about', 'it', 'because', 'i', 've', 'been', 'having', 'a', 'lot', 'of', 'self', 'doubt', 'about', 'my', 'ability', 'to', 'do', 'this', 'thing', 'today', 'i', 'was', 'waiting', 'to', 'go', 'into', 'a', 'class', 'when', 'i', 'heard', 'my', 'name', 'being', 'called', 'from', 'behind', 'me', 'i', 'turned', 'around', 'and', 'the', 'director', 'of', 'the', 'program', 'that', 'trains', 'the', 'actors', 'approached', 'me', 'to', 'compliment', 'me', 'on', 'the', 'osce', 'i', 'had', 'with', 'her', 'the', 'day', 'before', 'i', 'haven', 't', 'felt', 'that', 'happy', 'about', 'something', 'in', 'a', 'really', 'long', 'time'], ['my', '3', 'month', 'old', 'puppy', 'is', 'in', 'the', 'garden', 'right', 'now', 'just', 'chewing', 'on', 'his', 'toy', 'the', 'squeaky', 'noise', 'is', 'so', 'cute', 'and', 'i', 'can', 't', 'imagine', 'what', 'my', 'life', 'looked', 'like', 'before', 'i', 'had', 'him', 'to', 'me', 'this', 'is', 'true', 'happiness']]\n"
     ]
    }
   ],
   "source": [
    "lower_case = []\n",
    "for sent in tokenized_string:\n",
    "    word_list = []\n",
    "    for word in sent:\n",
    "        word_list.append(word.lower())\n",
    "    lower_case.append(word_list)\n",
    "\n",
    "print(lower_case[:5])"
   ]
  },
  {
   "cell_type": "code",
   "execution_count": 38,
   "id": "8472847e-a188-4e85-befd-14aa4afdfbd2",
   "metadata": {},
   "outputs": [
    {
     "name": "stdout",
     "output_type": "stream",
     "text": [
      "Our stopword list ['i', 'me', 'my', 'myself', 'we', 'our', 'ours', 'ourselves', 'you', \"you're\", \"you've\", \"you'll\", \"you'd\", 'your', 'yours', 'yourself', 'yourselves', 'he', 'him', 'his', 'himself', 'she', \"she's\", 'her', 'hers', 'herself', 'it', \"it's\", 'its', 'itself', 'they', 'them', 'their', 'theirs', 'themselves', 'what', 'which', 'who', 'whom', 'this', 'that', \"that'll\", 'these', 'those', 'am', 'is', 'are', 'was', 'were', 'be', 'been', 'being', 'have', 'has', 'had', 'having', 'do', 'does', 'did', 'doing', 'a', 'an', 'the', 'and', 'but', 'if', 'or', 'because', 'as', 'until', 'while', 'of', 'at', 'by', 'for', 'with', 'about', 'against', 'between', 'into', 'through', 'during', 'before', 'after', 'above', 'below', 'to', 'from', 'up', 'down', 'in', 'out', 'on', 'off', 'over', 'under', 'again', 'further', 'then', 'once', 'here', 'there', 'when', 'where', 'why', 'how', 'all', 'any', 'both', 'each', 'few', 'more', 'most', 'other', 'some', 'such', 'no', 'nor', 'not', 'only', 'own', 'same', 'so', 'than', 'too', 'very', 's', 't', 'can', 'will', 'just', 'don', \"don't\", 'should', \"should've\", 'now', 'd', 'll', 'm', 'o', 're', 've', 'y', 'ain', 'aren', \"aren't\", 'couldn', \"couldn't\", 'didn', \"didn't\", 'doesn', \"doesn't\", 'hadn', \"hadn't\", 'hasn', \"hasn't\", 'haven', \"haven't\", 'isn', \"isn't\", 'ma', 'mightn', \"mightn't\", 'mustn', \"mustn't\", 'needn', \"needn't\", 'shan', \"shan't\", 'shouldn', \"shouldn't\", 'wasn', \"wasn't\", 'weren', \"weren't\", 'won', \"won't\", 'wouldn', \"wouldn't\", '!', '\"', '#', '$', '%', '&', \"'\", '(', ')', '*', '+', ',', '-', '.', '/', ':', ';', '<', '=', '>', '?', '@', '[', '\\\\', ']', '^', '_', '`', '{', '|', '}', '~', '0', '1', '2', '3', '4', '5', '6', '7', '8', '9']\n"
     ]
    }
   ],
   "source": [
    "# Work with sample stopwords\n",
    "import string\n",
    "from nltk.corpus import stopwords\n",
    "\n",
    "stops = stopwords.words('english') # NLTK's short list of English stopwords\n",
    "\n",
    "for punct in string.punctuation:\n",
    "    stops.append(punct) # Add punctuation marks to stoplist\n",
    "numbers = ['0','1','2','3','4','5','6','7','8','9']\n",
    "for num in numbers:\n",
    "    stops.append(num)\n",
    "print(\"Our stopword list\", stops)\n"
   ]
  },
  {
   "cell_type": "code",
   "execution_count": 40,
   "id": "39d13385-e54f-4c54-829e-a8bd9cd55c1d",
   "metadata": {},
   "outputs": [
    {
     "data": {
      "text/plain": [
       "[['call',\n",
       "  '2v',\n",
       "  '14',\n",
       "  'hug',\n",
       "  'kids',\n",
       "  'grandkids',\n",
       "  'time',\n",
       "  'party',\n",
       "  '2v',\n",
       "  '14',\n",
       "  'friends',\n",
       "  'thank',\n",
       "  'science'],\n",
       " ['time',\n",
       "  'stop',\n",
       "  'feeling',\n",
       "  'gloomy',\n",
       "  'start',\n",
       "  'feeling',\n",
       "  'happy',\n",
       "  'https',\n",
       "  'infinitians',\n",
       "  'com',\n",
       "  'start',\n",
       "  'feeling',\n",
       "  'happy',\n",
       "  'https',\n",
       "  'infinitians',\n",
       "  'com',\n",
       "  'start',\n",
       "  'feeling',\n",
       "  'happy']]"
      ]
     },
     "execution_count": 40,
     "metadata": {},
     "output_type": "execute_result"
    }
   ],
   "source": [
    "no_stop =[]\n",
    "for sent in lower_case:\n",
    "    no_stop_sent =[]\n",
    "    for word in sent:\n",
    "        if word not in stops:\n",
    "            no_stop_sent.append(word)\n",
    "    no_stop.append(no_stop_sent)\n",
    "no_stop[:2]\n",
    "    "
   ]
  },
  {
   "cell_type": "markdown",
   "id": "fac9587c-b5b1-4414-901f-6f95ac9374b5",
   "metadata": {},
   "source": [
    "# Setup sentiment dictionaries \n",
    "For some reason spacy isn't downloading correctly in my environment, so feel free to keep the original sentiment method you had. However, if you're planning taking text mining with Wilkens, this is [lecture 5](https://github.com/wilkens-teaching/info3350-s22/blob/main/lectures/lec-05-sentiment.ipynb) of his course. I don't use all of this code, but I just copied and pasted from his jupyter notebook."
   ]
  },
  {
   "cell_type": "code",
   "execution_count": 64,
   "id": "65615c1c-4f8b-4aeb-9273-2cd5900a1768",
   "metadata": {},
   "outputs": [
    {
     "name": "stdout",
     "output_type": "stream",
     "text": [
      "NLTK lexicon sample\n",
      "positive: ['judicious', 'bliss', 'generous', 'enrichment', 'sociable']\n",
      "negative: ['smelly', 'crashed', 'fractiously', 'menacingly', 'clash']\n",
      "\n",
      "NRC lexicon sample\n",
      "gait: {'anger': 0, 'anticipation': 0, 'disgust': 0, 'fear': 0, 'joy': 0, 'negative': 0, 'positive': 0, 'sadness': 0, 'surprise': 0, 'trust': 0}\n",
      "centrifugal: {'anger': 0, 'anticipation': 0, 'disgust': 0, 'fear': 0, 'joy': 0, 'negative': 0, 'positive': 0, 'sadness': 0, 'surprise': 0, 'trust': 0}\n"
     ]
    }
   ],
   "source": [
    "from collections import defaultdict\n",
    "import nltk\n",
    "import os\n",
    "import random\n",
    "\n",
    "#nltk.download('opinion_lexicon') # Need to download this the first time used\n",
    "\n",
    "# NLTK simple lexicon (from Hu and Liu (2004))\n",
    "nltk_lexicon = {\n",
    "    'positive' : set(nltk.corpus.opinion_lexicon.positive()), # Why cast to a set?\n",
    "    'negative' : set(nltk.corpus.opinion_lexicon.negative())\n",
    "}\n",
    "\n",
    "# Print a sample of the NLTK lexicon\n",
    "print('NLTK lexicon sample')\n",
    "for key in nltk_lexicon.keys():\n",
    "    print(f'{key}:', random.sample(tuple(nltk_lexicon[key]), 5))\n",
    "    \n",
    "# NRC EmoLex lexicon (from Mohammad, http://sentiment.nrc.ca/lexicons-for-research/)\n",
    "# No package for this, just read the data from a local file\n",
    "emolex_file = os.path.join('emolex.txt')\n",
    "nrc_lexicon = defaultdict(dict) # Like Counter(), defaultdict eases dictionary creation\n",
    "with open(emolex_file, 'r') as f:\n",
    "    # emolex file format is: word emotion value\n",
    "    for line in f:\n",
    "        word, emotion, value = line.strip().split()\n",
    "        nrc_lexicon[word][emotion] = int(value)\n",
    "        \n",
    "# Print a sample of the NRC EmoLex lexicon\n",
    "print('\\nNRC lexicon sample')       \n",
    "for key in random.sample(tuple(nrc_lexicon.keys()), 2):\n",
    "    print(f'{key}:', nrc_lexicon[key])"
   ]
  },
  {
   "cell_type": "code",
   "execution_count": null,
   "id": "292138e6-339b-4382-b49c-3a9b2a66203e",
   "metadata": {},
   "outputs": [],
   "source": []
  },
  {
   "cell_type": "markdown",
   "id": "bdf8e514-4659-4062-81d5-879cbddceb7a",
   "metadata": {},
   "source": [
    "# Sentiment Scoring"
   ]
  },
  {
   "cell_type": "code",
   "execution_count": 43,
   "id": "ab8b2d62-54ac-4e05-a25f-d7a06ce76ad5",
   "metadata": {},
   "outputs": [],
   "source": [
    "def word_sentiment_score(word, method='nrc', lex=nrc_lexicon):\n",
    "    '''\n",
    "    Takes a word, optional method in ['nrc', 'nltk'], and optional lexicon dictionary.\n",
    "    Returns 1 (if positive), -1 (if negative), 0 (neutral), or None (not in lex).\n",
    "    '''\n",
    "    word = word.lower() # Handle non-case-folded inputs\n",
    "    if method.lower() == 'nrc':\n",
    "        if word in lex: # Only score words that are in the lexicon\n",
    "            pos = lex[word]['positive']\n",
    "            neg = lex[word]['negative']\n",
    "            if pos == neg: # Ties (mostly 0==0) return zero\n",
    "                return 0\n",
    "            elif pos > neg:\n",
    "                return 1\n",
    "            else:\n",
    "                return -1\n",
    "    elif method.lower() == 'nltk':\n",
    "        if word in lex['positive']:\n",
    "            return 1\n",
    "        elif word in lex['negative']:\n",
    "            return -1\n",
    "    else:\n",
    "        raise NameError(\"Method not in ['nrc', 'nltk']\")\n",
    "    return 0"
   ]
  },
  {
   "cell_type": "code",
   "execution_count": 45,
   "id": "48da23e0-944e-4606-9f48-5703f866855c",
   "metadata": {},
   "outputs": [
    {
     "data": {
      "text/plain": [
       "1628"
      ]
     },
     "execution_count": 45,
     "metadata": {},
     "output_type": "execute_result"
    }
   ],
   "source": [
    "def average(lst):\n",
    "    return sum(lst) / len(lst)\n",
    "\n",
    "sentiment_scores = []\n",
    "for sent in no_stop:\n",
    "    word_list =[]\n",
    "    for word in sent:\n",
    "        word_list.append(word_sentiment_score(word))\n",
    "    if (len(word_list) != 0):\n",
    "        avg = average(word_list)\n",
    "        sentiment_scores.append(avg)\n",
    "    else:\n",
    "        sentiment_scores.append(0)\n",
    "len(sentiment_scores)\n",
    "        "
   ]
  },
  {
   "cell_type": "code",
   "execution_count": 91,
   "id": "2b1a2622-6c07-4c0f-8fd0-9122b88aaebf",
   "metadata": {},
   "outputs": [],
   "source": [
    "df = pd.DataFrame(list(zip(sentiment_scores, happy_final['created_utc'] )),\n",
    "               columns =['sentiment_score', 'date'])\n",
    "df.sort_values('date', inplace = True)\n",
    "\n",
    "# convert to date\n",
    "df['date'] = pd.to_datetime(df['date'])"
   ]
  },
  {
   "cell_type": "code",
   "execution_count": 129,
   "id": "4813d13c-b43f-4cf3-a4c4-01e5e782008a",
   "metadata": {},
   "outputs": [
    {
     "data": {
      "image/png": "[encoded data removed]",
      "text/plain": [
       "<Figure size 864x576 with 1 Axes>"
      ]
     },
     "metadata": {
      "needs_background": "light"
     },
     "output_type": "display_data"
    }
   ],
   "source": [
    "import matplotlib.pyplot as plt\n",
    "from matplotlib.dates import DateFormatter\n",
    "import matplotlib.dates as mdates\n",
    "\n",
    "fig, ax = plt.subplots(figsize=(12, 8))\n",
    "\n",
    "ax.scatter(df['date'], df['sentiment_score'], s =10, c = 'xkcd:sunflower yellow')\n",
    "\n",
    "ax.xaxis.set_major_locator(mdates.WeekdayLocator(interval=2))\n",
    "ax.xaxis.set_major_formatter(DateFormatter('%Y-%m'))\n",
    "plt.xticks(rotation = 50)\n",
    "plt.title(\"r/Happy Sentiment Scores\")\n",
    "\n",
    "plt.show()"
   ]
  },
  {
   "cell_type": "code",
   "execution_count": null,
   "id": "110c5c24-78c7-4527-9861-ddb06d51ef7e",
   "metadata": {},
   "outputs": [],
   "source": []
  },
  {
   "cell_type": "code",
   "execution_count": null,
   "id": "ce5275d8-2553-4f42-a78d-048c6ab2f2a4",
   "metadata": {},
   "outputs": [],
   "source": [
    "# df = pd.DataFrame(cleaned, columns=[\"word\"])\n",
    "# df.to_csv('cleaned_happy_data.csv', index=False)"
   ]
  },
  {
   "cell_type": "markdown",
   "id": "4ce3fa19",
   "metadata": {},
   "source": [
    "Now that we have a cleaned output, we are going to use the VADER model (Valence Aware Dictionary for Sentiment Reasoning) to calculate the polarity score (valence) of each word"
   ]
  }
 ],
 "metadata": {
  "kernelspec": {
   "display_name": "Python 3 (ipykernel)",
   "language": "python",
   "name": "python3"
  },
  "language_info": {
   "codemirror_mode": {
    "name": "ipython",
    "version": 3
   },
   "file_extension": ".py",
   "mimetype": "text/x-python",
   "name": "python",
   "nbconvert_exporter": "python",
   "pygments_lexer": "ipython3",
   "version": "3.9.7"
  }
 },
 "nbformat": 4,
 "nbformat_minor": 5
}
