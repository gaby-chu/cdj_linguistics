{
 "cells": [
  {
   "cell_type": "markdown",
   "id": "68583ffb-1412-43e5-a735-4fbd50c65fdb",
   "metadata": {},
   "source": [
    "## Data Cleaning\n",
    "\n",
    "#### File to separate time periods into different csv files"
   ]
  },
  {
   "cell_type": "code",
   "execution_count": 1,
   "id": "562bbb26-3763-4b18-b5c4-38f527cd7655",
   "metadata": {},
   "outputs": [],
   "source": [
    "import pandas as pd\n",
    "import numpy as np"
   ]
  },
  {
   "cell_type": "code",
   "execution_count": 2,
   "id": "e9885f38-2674-4a19-9f45-d992d971024c",
   "metadata": {},
   "outputs": [],
   "source": [
    "data = pd.read_csv('cornell_final.csv')"
   ]
  },
  {
   "cell_type": "code",
   "execution_count": null,
   "id": "4ead75e7-7a23-4766-9cf6-78cee3502db1",
   "metadata": {},
   "outputs": [],
   "source": [
    "# pre covid period - march 2020 to march 2021\n",
    "\n",
    "pre_covid = data['2020-03-13':'2021-08-31']"
   ]
  }
 ],
 "metadata": {
  "kernelspec": {
   "display_name": "Python 3 (ipykernel)",
   "language": "python",
   "name": "python3"
  },
  "language_info": {
   "codemirror_mode": {
    "name": "ipython",
    "version": 3
   },
   "file_extension": ".py",
   "mimetype": "text/x-python",
   "name": "python",
   "nbconvert_exporter": "python",
   "pygments_lexer": "ipython3",
   "version": "3.9.7"
  }
 },
 "nbformat": 4,
 "nbformat_minor": 5
}
